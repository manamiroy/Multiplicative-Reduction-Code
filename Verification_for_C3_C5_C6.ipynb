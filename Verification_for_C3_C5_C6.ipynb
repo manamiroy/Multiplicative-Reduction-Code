{
 "cells": [
  {
   "cell_type": "code",
   "execution_count": 2,
   "metadata": {
    "collapsed": false
   },
   "outputs": [
   ],
   "source": [
    "from sage.schemes.elliptic_curves.weierstrass_morphism import *\n",
    "S.<a,b,p,l,u,v,c,d,r,s,t,x,y,k,j,e>=QQ[]\n",
    "load('torsion_parametrization.sage')"
   ]
  },
  {
   "cell_type": "markdown",
   "metadata": {
    "collapsed": false
   },
   "source": [
    "**Here we verify Lemma 2.1 and Theorem 2.2 for $T=C_3$** and let $a=c^3d^2e$ where $d,e$ are relatively prime positive squarefree integers. The minimal discriminant of $E$ is given by\n",
    "$$\\Delta = d^4e^8b^3(a-27b).$$\n",
    "By [Bar20, Theorem 7.1], $E_T$ has multiplicative reduction at a prime $p$ iff \n",
    "\n",
    "(i) $v_p(b)>0$ or \n",
    "\n",
    "(ii) $v_p(a-27b)>0$ with $p\\neq 3$. We now consider these two cases separately."
   ]
  },
  {
   "cell_type": "markdown",
   "metadata": {
    "collapsed": false
   },
   "source": [
    "**Subcase a.** Suppose $v_p(b)>0$. Then the following is a global minimal model for $E_T$ by [Ba, Theorem 4.4]."
   ]
  },
  {
   "cell_type": "code",
   "execution_count": 15,
   "metadata": {
    "collapsed": false
   },
   "outputs": [
    {
     "name": "stdout",
     "output_type": "stream",
     "text": [
      "a1\n",
      "e * d * c\n",
      "a2\n",
      "(3) * b\n",
      "a3\n",
      "e * d * (c + e) * b\n",
      "a4\n",
      "(3) * b^2\n",
      "a6\n",
      "b^3\n",
      "Disc\n",
      "b^3 * d^4 * e^8 * (c^3*d^2*e - 27*b)\n"
     ]
    }
   ],
   "source": [
    "F31=E3(c^3*d^2*e,b).change_weierstrass_model(c^2*d,b*c^4*d^2,0,0) # This is the curve F1\n",
    "vals(F31)"
   ]
  },
  {
   "cell_type": "markdown",
   "metadata": {
    "collapsed": false
   },
   "source": [
    "In particular, $p$ divides $a_3,a_4$, and $a_6$. Consequently,\n",
    "$$ t^2 +a_1t-a_2 = t^2 + (edc)t - 3b \\equiv t(t+edc) \\mod p.$$\n",
    "By Tate's Algorithm, $E_T$ has Neron type $I_{3v_p(b)}$ and split multiplicative reduction at $p$."
   ]
  },
  {
   "cell_type": "markdown",
   "metadata": {
    "collapsed": false
   },
   "source": [
    "**Subcase b.** Suppose $v_p(a-27b)>0$ with $p\\neq 3$. Then the following is a global minimal model for $E_T$ by [Bar20, Theorem 4.4]:"
   ]
  },
  {
   "cell_type": "code",
   "execution_count": 17,
   "metadata": {
    "collapsed": false
   },
   "outputs": [
    {
     "name": "stdout",
     "output_type": "stream",
     "text": [
      "a1\n",
      "(-3) * e * d * c\n",
      "a2\n",
      "(-3) * e^2 * d^2 * c^2\n",
      "a3\n",
      "(-1) * d * e^2 * (c^3*d^2*e - 27*b)\n",
      "a4\n",
      "(-3) * c * d^2 * e^3 * (c^3*d^2*e - 27*b)\n",
      "a6\n",
      "c^3 * d^4 * e^5 * (c^3*d^2*e - 27*b)\n",
      "Disc\n",
      "(531441) * b^3 * d^4 * e^8 * (c^3*d^2*e - 27*b)\n",
      "-3*c^2*d^2*e^2\n"
     ]
    }
   ],
   "source": [
    "F32=E3(c^3*d^2*e,b).change_weierstrass_model(c^2*d/3,-c^6*d^4*e^2/9,-c^3*d^2*e,c^9*d^6*e^3/27) # This is F2\n",
    "vals(F32)\n",
    "print((F32.a1())^2+4*F32.a2())"
   ]
  },
  {
   "cell_type": "markdown",
   "metadata": {
    "collapsed": false
   },
   "source": [
    "In particular, $p$ divides $a_3,a_4$, and $a_6$. Consequently,\n",
    "$$ t^2 +a_1t-a_2 = t^2  -3edct +3e^2d^2c^2 $$\n",
    "\n",
    "If $p=2$, then $v_2(ab)=0$ and consequently the above polynomial is irreducible modulo $2$. In particular, $E_T$ has non-split multiplicative reduction at $2$. \n",
    "\n",
    "If $p$ is odd, then the polynomial splits modulo $p$ iff \n",
    "$$\\left(\\frac{a_1^2+4a_2}{p}\\right) = \\left(\\frac{9e^2d^2c^2 - 12e^2d^2c^2}{p}\\right)= \\left(\\frac{-3e^2d^2c^2}{p}\\right)=\\left(\\frac{-3}{p}\\right)=1.$$\n",
    "By Tate's Algorithm, $E_T$ has Neron type $I_{v_p(a-27b)}$ and if\n",
    "$$\\left(\\frac{-3}{p}\\right)= \\left\\{ \\begin{array}{cl} 1&\\text{then }E_T\\text{ has split multiplicative reduction at }p \\\\-1 & \\text{then }E_T\\text{ has non-split multiplicative reduction at }p.\\end{array}\\right. $$\n",
    "Lastly, we note that\n",
    "$$\\left(\\frac{-3}{p}\\right)= \\left\\{ \\begin{array}{cl} 1&\\text{if }p\\equiv 1 \\mod 6\\\\-1 & \\text{if }p\\equiv 5 \\mod 6\\end{array}\\right. $$"
   ]
  },
  {
   "cell_type": "markdown",
   "metadata": {
    "collapsed": false
   },
   "source": [
    "**Here we verify Lemma 2.1 and Theorem 2.2 for $T=C_5$.** The minimal discriminant of $E$ is given by\n",
    "$$\\Delta = -a^5b^5(a^2+11ab-b^2).$$\n",
    "By [Bar20, Theorem 7.1], $E_T$ has multiplicative reduction at a prime $p$ iff \n",
    "\n",
    "(i) $v_p(ab)>0$ or\n",
    "\n",
    "(ii) $v_p(a^2+11ab-b^2)>0$ with $p\\neq 5$.\n",
    "\n",
    "For (ii), we observe that $E_T$ has additive reduction if and only if $v_5(a+3b)>0$. The computation box below verifies that $v_5(a+3b)>0$ is equivalent to $v_5(a^2+11ab-b^2)>0$. Now observe that the assumption that $a,b$ are relatively prime implies that $a^2+11ab-b^2 \\not \\equiv 0 \\mod p$ for $p=2,3$. Consequently, condition (ii) becomes $v_p(a^2+11ab-b^2)>0$ with $p\\geq7$. We now consider these two cases separately."
   ]
  },
  {
   "cell_type": "code",
   "execution_count": 28,
   "metadata": {
    "collapsed": false
   },
   "outputs": [
    {
     "name": "stdout",
     "output_type": "stream",
     "text": [
      "True\n"
     ]
    }
   ],
   "source": [
    "print(PolyModFactor(a^2+11*a*b-b^2,5) == PolyModFactor((a+3*b)^2,5))"
   ]
  },
  {
   "cell_type": "markdown",
   "metadata": {
    "collapsed": false
   },
   "source": [
    "**Subcase a.** Suppose $v_p(ab)>0$. Then the following is a global minimal model for $E_T$ by [Bar20, Theorem 4.4]."
   ]
  },
  {
   "cell_type": "code",
   "execution_count": 10,
   "metadata": {
    "collapsed": false
   },
   "outputs": [
    {
     "name": "stdout",
     "output_type": "stream",
     "text": [
      "a1\n",
      "2*a*b + a - b\n",
      "a2\n",
      "(-1) * b * a * (a*b + a - b - 2)\n",
      "a3\n",
      "(-1) * b * (b - 2) * a\n",
      "a4\n",
      "b * a * (a*b^2 - a*b - a + b)\n",
      "a6\n",
      "(b - 1) * b^2 * a^2\n",
      "Disc\n",
      "(-1) * b^5 * a^5 * (a^2 + 11*a*b - b^2)\n"
     ]
    }
   ],
   "source": [
    "F51=E5(a,b).change_weierstrass_model(1,a*b,a*b,a*b)\n",
    "vals(F51)"
   ]
  },
  {
   "cell_type": "markdown",
   "metadata": {
    "collapsed": false
   },
   "source": [
    "In particular, $p$ divides $a_3,a_4$, and $a_6$. Consequently,\n",
    "$$ t^2 +a_1t-a_2 = t^2 + (2ab + a - b)t +ab (ab + a - b - 2) \\equiv t(t + a - b) \\mod p.$$\n",
    "By Tate's Algorithm, $E_T$ has Neron type $I_{5v_p(ab)}$ and split multiplicative reduction at $p$."
   ]
  },
  {
   "cell_type": "markdown",
   "metadata": {
    "collapsed": false
   },
   "source": [
    "**Subcase b.** Suppose $v_p(a^2+11ab-b^2)>0$ with $p\\geq7$. Then the invariants $c_4$ and $c_6$ associated to a global minimal model of $E_T$ are:"
   ]
  },
  {
   "cell_type": "code",
   "execution_count": 104,
   "metadata": {
    "collapsed": false
   },
   "outputs": [
    {
     "name": "stdout",
     "output_type": "stream",
     "text": [
      "Elliptic Curve defined by y^2 + (a-b)*x*y + (-a^2*b)*y = x^3 + (-a*b)*x^2 over Fraction Field of Multivariate Polynomial Ring in a, b, p, l, u, v, c, d, r, s, t, x, y, k, j, e over Rational Field\n",
      "c4\n",
      "a^4 + 12*a^3*b + 14*a^2*b^2 - 12*a*b^3 + b^4\n",
      "c6\n",
      "(-1) * (a^2 + b^2) * (a^4 + 18*a^3*b + 74*a^2*b^2 - 18*a*b^3 + b^4)\n"
     ]
    }
   ],
   "source": [
    "K=E5(a,b)\n",
    "print(K)\n",
    "print('c4')\n",
    "print(factor(K.c4()))\n",
    "print('c6')\n",
    "print(factor(K.c6()))"
   ]
  },
  {
   "cell_type": "markdown",
   "metadata": {
    "collapsed": false
   },
   "source": [
    "By [ScZi, Proposition 4.4], $E_T$ has split multiplicative reduction at $p$ iff $-c_4c_6$ is a square in $\\mathbb{F}_p$. Let $l=a^2+11ab-b^2$ and observe that the computation box below verifies that\n",
    "$$-c_4c_6 = (a^2 + b^2) ( l^2 -5 ab (2l - ab)) ( l^2- ab (4l + ba)) \\equiv -5a^4b^4(a^2+b^2) \\mod p  $$\n",
    "$$\\Longrightarrow \\quad \\left(\\frac{-c_4c_6}{p}\\right) = \\left(\\frac{-5(a^2+b^2)}{p}\\right)$$\n",
    "\n",
    "By Tate's Algorithm, $E_T$ has Neron type $I_{v_p(a^2+11ab-b^2)}$ and if\n",
    "$$\\left(\\frac{-5(a^2+b^2)}{p}\\right)= \\left\\{ \\begin{array}{cl} 1&\\text{then }E_T\\text{ has split multiplicative reduction at }p \\\\-1 & \\text{then }E_T\\text{ has non-split multiplicative reduction at }p.\\end{array}\\right. $$"
   ]
  },
  {
   "cell_type": "code",
   "execution_count": 41,
   "metadata": {
    "collapsed": false
   },
   "outputs": [
    {
     "name": "stdout",
     "output_type": "stream",
     "text": [
      "0\n",
      "-5*(a^2 + b^2)*a^4*b^4\n"
     ]
    }
   ],
   "source": [
    "f(l)=(a^2 + b^2) * ( l^2 -5 * b * a * (2*l - b*a)) * ( l^2- b * a * (4*l + b*a))\n",
    "print(expand(f(a^2+11*a*b-b^2)-(-K.c4()*K.c6())))\n",
    "print(factor(f(0)))"
   ]
  },
  {
   "cell_type": "markdown",
   "metadata": {
    "collapsed": false
   },
   "source": [
    "**Now we verify Lemma 2.1 and Theorem 2.2 for $T=C_6$.** The minimal discriminant of $E_T$ is given by\n",
    "$$\\Delta = u^{-12}a^2b^6(a+9b)(a+b)^3\\text{ where } u=\\left\\{ \\begin{array}{cl} 2&\\text{if }v_2(a+b)\\geq3 \\\\1 & \\text{if }v_2(a+b)\\leq2.\\end{array}\\right.$$\n",
    "By [Bar20, Theorem 7.1], $E_T$ has additive reduction at a prime $p$ iff $(i)$ $p=2$ and $v_2(a+b)=1,2$ or $(ii)$ $v_3(a)\\geq 1$. In particular, $E_T$ has multiplicative reduction at a prime $p$ iff \n",
    "\n",
    "(i) $v_p(a)>0$ with $p \\neq 3$, \n",
    "\n",
    "(ii) $v_p(b)>0$, \n",
    "\n",
    "(iii) $v_p((a+b)(a+9b))$ with $p \\neq 2,3$, \n",
    "\n",
    "(iv) $v_2(a+b) \\geq 3$, or \n",
    "\n",
    "(v) $v_3(a+b)>0$ with $v_3(a)=0$."
   ]
  },
  {
   "cell_type": "markdown",
   "metadata": {
    "collapsed": false
   },
   "source": [
    "**Subcase a.** Suppose $v_p(ab)>0$ with $p\\neq 3$ if $v_3(a)>0$. Then the following is a global minimal model for $E_T$ by [Bar20, Theorem 4.4]."
   ]
  },
  {
   "cell_type": "code",
   "execution_count": 14,
   "metadata": {
    "collapsed": false
   },
   "outputs": [
    {
     "name": "stdout",
     "output_type": "stream",
     "text": [
      "a1\n",
      "2*a*b + a - b\n",
      "a2\n",
      "(-1) * b * (a^2*b + a^2 - a*b - 2*a + b)\n",
      "a3\n",
      "(-2) * b * (b - 1) * a\n",
      "a4\n",
      "b * a * (2*a*b^2 - a*b - 2*b^2 - a + b)\n",
      "a6\n",
      "(-1) * b^2 * (b - 1)^2 * a^2\n",
      "Disc\n",
      "(a + 9*b) * a^2 * (a + b)^3 * b^6\n"
     ]
    }
   ],
   "source": [
    "F61=E6(a,b).change_weierstrass_model(1,a*b,a*b,a*b)# this is the curve F1 in the paper\n",
    "vals(F61)"
   ]
  },
  {
   "cell_type": "markdown",
   "metadata": {
    "collapsed": false
   },
   "source": [
    "In particular, $p$ divides $a_3,a_4$, and $a_6$. Consequently,\n",
    "$$ t^2 +a_1t-a_2 = t^2 + (2ab+a-b)t + b(a^2b+a^2-ab-2a+b) \\equiv t^2 + (a-b)t + b(a^2-2a+b) \\mod p.\n",
    "\\\\ =\\left\\{ \\begin{array}{cl} t^2-bt +b^2 \\mod p&\\text{if }v_p(a)>0 \\\\t(t+a) \\mod p & \\text{if }v_p(b)>0.\\end{array}\\right.$$\n",
    "By Tate's Algorithm, $E_T$ has Neron type $I_{2v_p(a)+6v_p(b)}$. Moreover, if $v_p(b)>0$, then $E_T$ has split multiplicative reduction at $p$.\n",
    "\n",
    "Now suppose $v_p(a)>0$ with $p\\neq 3$. Then $t^2-bt +b^2$does not split modulo $2$. For $p\\geq5$, we have that the polynomial splits iff $b^2-4b^2 = -3b^2$ is a square modulo $p$. Therefore if $v_p(a)>0,p\\geq5$, and\n",
    "$$\\left(\\frac{-3}{p}\\right)= \\left\\{ \\begin{array}{cl} 1&\\text{then }E_T\\text{ has split multiplicative reduction at }p \\\\-1 & \\text{then }E_T\\text{ has non-split multiplicative reduction at }p.\\end{array}\\right. $$\n",
    "\n",
    "Lastly, we note that\n",
    "$$\\left(\\frac{-3}{p}\\right)= \\left\\{ \\begin{array}{cl} 1&\\text{if }p\\equiv 1 \\mod 6\\\\-1 & \\text{if }p\\equiv 5 \\mod 6\\end{array}\\right. $$"
   ]
  },
  {
   "cell_type": "markdown",
   "metadata": {
    "collapsed": false
   },
   "source": [
    "**Subcase b.** Suppose $v_p(a+9b)>0$ with $p \\neq 2,3$. Then the following is a global minimal model for $E_T$:"
   ]
  },
  {
   "cell_type": "code",
   "execution_count": 29,
   "metadata": {
    "collapsed": false
   },
   "outputs": [
    {
     "name": "stdout",
     "output_type": "stream",
     "text": [
      "a1\n",
      "(3) * (a + 3*b)\n",
      "a2\n",
      "(-3) * (a + 3*b)^2\n",
      "a3\n",
      "(a + 9*b) * a^2\n",
      "a4\n",
      "(-3) * (a + 3*b) * (a + 9*b) * a^2\n",
      "a6\n",
      "(a + 9*b) * a^2 * (a + 3*b)^3\n",
      "Disc\n",
      "(531441) * (a + 9*b) * a^2 * (a + b)^3 * b^6\n"
     ]
    }
   ],
   "source": [
    "F62=E6(a,b).change_weierstrass_model(1/3,(1/9) * (-a + 3*b) * a,(2) * b,(2/27) * a * (a + 3*b)^2)# this is F2\n",
    "vals(F62)"
   ]
  },
  {
   "cell_type": "markdown",
   "metadata": {
    "collapsed": false
   },
   "source": [
    "In particular, $p$ divides $a_3,a_4$, and $a_6$. Consequently,\n",
    "$$ t^2 +a_1t-a_2 = t^2 + 3(a+3b)t + 3(a+3b)^2.$$\n",
    "\n",
    "By Tate's Algorithm, $E_T$ has Neron type $I_{v_p(a+9b)}$. Indeed, since $p\\geq5$, we have that $a+9b \\equiv 0 \\mod p \\Longrightarrow a+b \\equiv -8b \\mod p$. Hence, $v_p(a+b)=0$. Now observe that the polynomial above splits modulo $p$ iff $9(a+3b)^2 -12(a+3b)^2=-3(a+3b)^2$ is a perfect square in $\\mathbb{F}_p$. Thus, if\n",
    "$$\\left(\\frac{-3}{p}\\right)= \\left\\{ \\begin{array}{cl} 1&\\text{then }E_T\\text{ has split multiplicative reduction at }p \\\\-1 & \\text{then }E_T\\text{ has non-split multiplicative reduction at }p.\\end{array}\\right. $$"
   ]
  },
  {
   "cell_type": "markdown",
   "metadata": {
    "collapsed": false
   },
   "source": [
    "**Subcase c.** Suppose $v_p(a+b)>0$ with $p \\neq 2$ and $v_3(a)=0$ if $p=3$. Then the following is a global minimal model for $E_T$:"
   ]
  },
  {
   "cell_type": "code",
   "execution_count": 19,
   "metadata": {
    "collapsed": false
   },
   "outputs": [
    {
     "name": "stdout",
     "output_type": "stream",
     "text": [
      "a1\n",
      "a - b\n",
      "a2\n",
      "(-1) * (b - 3) * (a + b)\n",
      "a3\n",
      "(-1) * (a + b) * (a*b - a + b)\n",
      "a4\n",
      "(-1) * (2*b - 3) * (a + b)^2\n",
      "a6\n",
      "(-1) * (b - 1) * (a + b)^3\n",
      "Disc\n",
      "(a + 9*b) * a^2 * (a + b)^3 * b^6\n"
     ]
    }
   ],
   "source": [
    "F63=E6(a,b).change_weierstrass_model(1,(a+b),0,0)# this is F3\n",
    "vals(F63)"
   ]
  },
  {
   "cell_type": "markdown",
   "metadata": {
    "collapsed": false
   },
   "source": [
    "In particular, $p$ divides $a_3,a_4$, and $a_6$. Consequently,\n",
    "$$ t^2 +a_1t-a_2 = t^2 + (a-b)t +(b-3)(a+b) \\equiv t(t+a-b) \\mod p.$$\n",
    "By Tate's Algorithm, $E_T$ has Neron type $I_{3v_p(a+b)}$. Indeed, $a+b \\equiv 0 \\mod p \\Longrightarrow a+9b \\equiv 8b \\mod p$. It follows that $v_p(a+9b)=0$ for $p\\geq3$.\n",
    "\n",
    "\n",
    "Lastly, since the polynomial above splits, we conclude that $E_T$ has split multiplicative reduction at $p$."
   ]
  },
  {
   "cell_type": "markdown",
   "metadata": {
    "collapsed": false
   },
   "source": [
    "**Subcase d.** Suppose $v_2(a+b)=3$. Then $v_2(\\Delta)=v_2((a+b)^3(a+9b))=v_2(a+9b)-3$. Then the following is a global minimal model for $E_T$:"
   ]
  },
  {
   "cell_type": "code",
   "execution_count": 20,
   "metadata": {
    "collapsed": false
   },
   "outputs": [
    {
     "name": "stdout",
     "output_type": "stream",
     "text": [
      "a1\n",
      "(1/2) * (a - b)\n",
      "a2\n",
      "(-1/4) * (a*b + b^2 - 12)\n",
      "a3\n",
      "(-1/8) * (a^2*b + a*b^2 - 4*a + 4*b - 16)\n",
      "a4\n",
      "(-1/2) * (a*b + b^2 + a - b - 6)\n",
      "a6\n",
      "(1/8) * (a^2*b + a*b^2 - 2*a*b - 2*b^2 - 4*a + 4*b)\n",
      "Disc\n",
      "(1/4096) * (a + 9*b) * a^2 * (a + b)^3 * b^6\n"
     ]
    }
   ],
   "source": [
    "F64=E6(a,b).change_weierstrass_model(2,4,0,8)# this is F4\n",
    "vals(F64)"
   ]
  },
  {
   "cell_type": "markdown",
   "metadata": {
    "collapsed": false
   },
   "source": [
    "Observe that\n",
    "$$\\begin{align} 2a_1 =& a-b = a+b -2b \\equiv -2b \\mod 4 = 2 \\mod 2\\\\\n",
    "-4a_2 =& ab + b^2 - 12 = b(a+b) - 12 \\equiv 0 + 4 \\mod 8 = 4 \\mod 8\\\\\n",
    "-8a_3 =& a^2b+ab^2-4a+4b - 16 = ab(a+b)+4(b-a) - 16 \\equiv 8ab + 4(b-a) \\mod 16 = 0 \\mod16 \\quad \\text{ since } b-a = a+b -2a \\equiv 2\\mod 4\\\\\n",
    "-2a_4 =& ab+b^2 +a -b -6 = b(a+b) +a -b - 6 \\equiv a-b +2 \\mod 4 = 0 \\mod 4\\\\\n",
    "8a_6 =&  a^2b+ab^2 -2ab-2b^2 -4a +4b = ab(a+b) -2b(a+b) +4 (b-a) \\equiv 8ab + 0 + 4(b-a)  \\mod 16 = 0 \\mod 16.\\end{align}$$\n",
    "\n",
    "It follows that each $a_j$ is an integer and $2$ divides $a_3,a_4,$ and $a_6$. Consequently,\n",
    "$$ t^2 +a_1t-a_2 \\equiv t^2 + t + 1 \\mod 2.$$\n",
    "By Tate's Algorithm, $E_T$ has Neron type $I_{v_2(a+9b)-3}$ and $E_T$ has non-split multiplicative reduction at $2$."
   ]
  },
  {
   "cell_type": "markdown",
   "metadata": {
    "collapsed": false
   },
   "source": [
    "**Subcase e.** Suppose $v_2(a+b)\\geq 4$. Then $a+9b \\equiv 8 \\mod 16$ and thus Then $v_2(\\Delta)=v_2((a+b)^3(a+9b))=3v_2(a+b)-9$. Then the following is a global minimal model for $E_T$:"
   ]
  },
  {
   "cell_type": "code",
   "execution_count": 21,
   "metadata": {
    "collapsed": false
   },
   "outputs": [
    {
     "name": "stdout",
     "output_type": "stream",
     "text": [
      "a1\n",
      "(1/2) * (a - b)\n",
      "a2\n",
      "(-1/4) * (b - 12) * (a + b)\n",
      "a3\n",
      "(-1/8) * (a + b) * (a*b - 4*a + 4*b)\n",
      "a4\n",
      "(-1/2) * (b - 6) * (a + b)^2\n",
      "a6\n",
      "(-1/4) * (b - 4) * (a + b)^3\n",
      "Disc\n",
      "(1/4096) * (a + 9*b) * a^2 * (a + b)^3 * b^6\n"
     ]
    }
   ],
   "source": [
    "F65=E6(a,b).change_weierstrass_model(2,4*(a+b),0,0)# this is F5\n",
    "vals(F65)"
   ]
  },
  {
   "cell_type": "markdown",
   "metadata": {
    "collapsed": false
   },
   "source": [
    "It follows that each $a_j$ is an integer since $v_2(a+b)\\geq4$. Note that $a+9b\\equiv 8b \\mod 16$, and thus $v_2(a+9b)=3$. Therefore, $v_2(\\Delta) = 3v_2(a+b)-9$.\n",
    "\n",
    "Moreover, $2$ divides $a_3,a_4,$ and $a_6$ and we satisfy the assumptions of Tate's Algorithm. Now observe that\n",
    "$$ t^2 +a_1t-a_2 = t^2 +\\frac{a-b}{2}t + \\frac{(b-12)(a+b)}{4} \\equiv t(t+1) \\mod 2\\quad\\text{ since } a-b \\equiv 2 \\mod 4.$$\n",
    "By Tate's Algorithm, $E_T$ has Neron type $I_{3v_2(a+b)-9}$ and $E_T$ has split multiplicative reduction at $2$."
   ]
  },
  {
   "cell_type": "code",
   "execution_count": 0,
   "metadata": {
    "collapsed": false
   },
   "outputs": [
   ],
   "source": [
   ]
  }
 ],
 "metadata": {
  "kernelspec": {
   "display_name": "SageMath 9.1",
   "language": "sagemath",
   "metadata": {
    "cocalc": {
     "description": "Open-source mathematical software system",
     "priority": 10,
     "url": "https://www.sagemath.org/"
    }
   },
   "name": "sage-9.1",
   "resource_dir": "/ext/jupyter/kernels/sage-9.1"
  },
  "language_info": {
   "codemirror_mode": {
    "name": "ipython",
    "version": 3
   },
   "file_extension": ".py",
   "mimetype": "text/x-python",
   "name": "python",
   "nbconvert_exporter": "python",
   "pygments_lexer": "ipython3",
   "version": "3.7.3"
  }
 },
 "nbformat": 4,
 "nbformat_minor": 4
}
