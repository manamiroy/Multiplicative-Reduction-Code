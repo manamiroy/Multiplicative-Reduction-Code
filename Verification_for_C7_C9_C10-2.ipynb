{
 "cells": [
  {
   "cell_type": "code",
   "execution_count": 2,
   "metadata": {
    "collapsed": false
   },
   "outputs": [
   ],
   "source": [
    "from sage.schemes.elliptic_curves.weierstrass_morphism import *\n",
    "S.<a,b,p,l,u,v,c,d,r,s,t,x,y,k,j,e>=QQ[]\n",
    "load('torsion_parametrization.sage')"
   ]
  },
  {
   "cell_type": "markdown",
   "metadata": {
    "collapsed": false
   },
   "source": [
    "**Now we verify Lemma 2.1 and Theorem 2.2 for $T=C_7$.** The minimal discriminant of $E$ is given by\n",
    "$$\\Delta = -a^7b^7(a-b)^7(a^3+5a^2b-8ab^2+b^3).$$\n",
    "By [Bar20, Theorem 7.1], $E_T$ has multiplicative reduction at a prime $p$ iff \n",
    "\n",
    "(i) $v_p(ab(a-b))>0$ or \n",
    "\n",
    "(ii) $v_p(a^3+5a^2b-8ab^2+b^3)>0$ with $p\\neq 7$. \n",
    "\n",
    "\n",
    "For (ii), we observe that $E_T$ has additive reduction if and only if $p=7$ and $v_7(a+4b)>0$. The computation box below verifies that $v_7(a+4b)>0$ is equivalent to $v_7(a^3+5a^2b-8ab^2+b^3)>0$.\n",
    "\n",
    "Now observe that the assumption that $a,b$ are relatively prime implies that $v_p(a^3+5a^2b-8ab^2+b^3) \\not \\equiv 0 \\mod p$ for $p=2,3,5,11$. Consequently, condition (ii) becomes $v_p(a^3+5a^2b-8ab^2+b^3)>0$ with $p\\geq13$. We now consider these two cases separately."
   ]
  },
  {
   "cell_type": "code",
   "execution_count": 21,
   "metadata": {
    "collapsed": false
   },
   "outputs": [
    {
     "data": {
      "text/plain": [
       "True"
      ]
     },
     "execution_count": 21,
     "metadata": {
     },
     "output_type": "execute_result"
    }
   ],
   "source": [
    "PolyModFactor(a^3+5*a^2*b-8*a*b^2+b^3,7) ==PolyModFactor((a+4*b)^3,7)"
   ]
  },
  {
   "cell_type": "markdown",
   "metadata": {
    "collapsed": false
   },
   "source": [
    "**Subcase a.** Suppose $v_p(ab(a-b))>0$. Then the following is a global minimal model for $E_T$:"
   ]
  },
  {
   "cell_type": "code",
   "execution_count": 22,
   "metadata": {
    "collapsed": false
   },
   "outputs": [
    {
     "name": "stdout",
     "output_type": "stream",
     "text": [
      "a1\n",
      "(-1) * (-2*a^3*b^2 + 2*a^2*b^3 - a^2 - a*b + b^2)\n",
      "a2\n",
      "(-1) * b * (-a + b) * a * (-a^4*b^3 + a^3*b^4 - a^3*b - a^2*b^2 + a*b^3 + b + 3)\n",
      "a3\n",
      "b * (-a + b) * a * (-a^2*b - a^2 - a*b + b^2)\n",
      "a4\n",
      "b^2 * (-a + b)^2 * a^2 * (-a^3*b^2 - a^3*b - a^2*b^2 + a*b^3 + 2*b + 3)\n",
      "a6\n",
      "(-1) * (b + 1) * b^3 * (-a + b)^3 * a^3\n",
      "Disc\n",
      "(-1) * b^7 * a^7 * (a - b)^7 * (a^3 + 5*a^2*b - 8*a*b^2 + b^3)\n"
     ]
    }
   ],
   "source": [
    "F71=E7(a,b).change_weierstrass_model(1,a*b*(a-b),a*b*a*b*(a-b),0)# This is F1 in the paper\n",
    "vals(F71)"
   ]
  },
  {
   "cell_type": "markdown",
   "metadata": {
    "collapsed": false
   },
   "source": [
    "In particular, $p$ divides $a_3,a_4$, and $a_6$. Consequently,\n",
    "$$ t^2 +a_1t-a_2 \\equiv t(t+a^2+ab-b^2) \\mod p.$$\n",
    "By Tate's Algorithm, $E_T$ has Neron type $I_{7v_p(ab(a-b))}$ and split multiplicative reduction at $p$."
   ]
  },
  {
   "cell_type": "markdown",
   "metadata": {
    "collapsed": false
   },
   "source": [
    "**Subcase b.** Suppose $v_p(a^3+5a^2b-8ab^2+b^3)>0$ with $p\\geq13$. Then the invariants $c_4$ and $c_6$ associated to a global minimal model of $E_T$ are:"
   ]
  },
  {
   "cell_type": "code",
   "execution_count": 23,
   "metadata": {
    "collapsed": false
   },
   "outputs": [
    {
     "name": "stdout",
     "output_type": "stream",
     "text": [
      "Elliptic Curve defined by y^2 + (a^2+a*b-b^2)*x*y + (a^4*b^2-a^3*b^3)*y = x^3 + (a^2*b^2-a*b^3)*x^2 over Fraction Field of Multivariate Polynomial Ring in a, b, p, l, u, v, c, d, r, s, t, x, y, k, j, e over Rational Field\n",
      "c4\n",
      "(a^2 - a*b + b^2) * (a^6 + 5*a^5*b - 10*a^4*b^2 - 15*a^3*b^3 + 30*a^2*b^4 - 11*a*b^5 + b^6)\n",
      "c6\n",
      "(-1) * (a^12 + 6*a^11*b - 15*a^10*b^2 - 46*a^9*b^3 + 174*a^8*b^4 - 222*a^7*b^5 + 273*a^6*b^6 - 486*a^5*b^7 + 570*a^4*b^8 - 354*a^3*b^9 + 117*a^2*b^10 - 18*a*b^11 + b^12)\n"
     ]
    }
   ],
   "source": [
    "K=E7(a,b)\n",
    "print(K)\n",
    "print('c4')\n",
    "print(factor(K.c4()))\n",
    "print('c6')\n",
    "print(factor(K.c6()))"
   ]
  },
  {
   "cell_type": "markdown",
   "metadata": {
    "collapsed": false
   },
   "source": [
    "By [SZ03, Proposition 4.4], $E_T$ has split multiplicative reduction at $p$ iff $-c_4c_6$ is a square in $\\mathbb{F}_p$. Let $l=a^3+5a^2b-8ab^2+b^3$ and observe that the computation box below verifies that\n",
    "$$-c_4c_6 \\equiv -7a^6b^6(a-b)^6(a^2-ab+b^2) \\mod p  $$\n",
    "\n",
    "(I see $-c_4c_6 \\equiv -7a^6b^6(a-b)^6(3a - b)(2a + b) \\mod p $)\n",
    "\n",
    "$$\\Longrightarrow \\quad \\left(\\frac{-c_4c_6}{p}\\right) = \\left(\\frac{-7(a^2-ab+b^2)}{p}\\right)$$\n",
    "\n",
    "By Tate's Algorithm, $E_T$ has Neron type $I_{v_p(a^3+5a^2b-8ab^2+b^3)}$ and if\n",
    "$$\\left(\\frac{-7(a^2-ab+b^2)}{p}\\right)= \\left\\{ \\begin{array}{cl} 1&\\text{then }E_T\\text{ has split multiplicative reduction at }p \\\\-1 & \\text{then }E_T\\text{ has non-split multiplicative reduction at }p.\\end{array}\\right. $$"
   ]
  },
  {
   "cell_type": "code",
   "execution_count": 24,
   "metadata": {
    "collapsed": false
   },
   "outputs": [
    {
     "name": "stdout",
     "output_type": "stream",
     "text": [
      "0\n",
      "True\n",
      "-7*(a^2 - a*b + b^2)*(a - b)^6*a^6*b^6\n"
     ]
    }
   ],
   "source": [
    "f(l)=(a^2 - a*b + b^2) * (l^2 - b * a * (a - b)*5*l + b^2 * a^2 * (a - b)^2) * (l^4 + (-7) * b * a * (a - b) * (2*l^3 - b * a * (a - b) * (9*l^2 - b * a * (a - b) * (10*l + b * a * (a - b)) ) ))\n",
    "print(expand(f(a^3+5*a^2*b-8*a*b^2+b^3)-(-K.c4()*K.c6())))\n",
    "print(S(f(a^3 + 5*a^2*b - 8*a*b^2 + b^3)) == S(-E7(a,b).c6()*E7(a,b).c4()))\n",
    "print(factor(f(0)))"
   ]
  },
  {
   "cell_type": "markdown",
   "metadata": {
    "collapsed": false
   },
   "source": [
    "**Here we verify Lemma 2.1 and Theorem 2.2 for $T=C_9$.** The minimal discriminant of $E$ is given by\n",
    "$$\\Delta = -a^9b^9(a-b)^9(a^2-ab+b^2)^3(a^3+3a^2b-6ab^2+b^3).$$\n",
    "By [Bar20, Theorem 7.1], $E_T$ has multiplicative reduction at a prime $p$ iff \n",
    "\n",
    "(i) $v_p(ab(a-b))>0$, \n",
    "\n",
    "(ii) $v_p(a^2-ab+b^2)$ with $p\\neq 3$, or \n",
    "\n",
    "(iii) $v_p(a^3+3a^2b-6ab^2+b^3)>0$ with $p\\neq 3$.\n",
    "\n",
    "For (ii) and (iii), we observe that $E_T$ has additive reduction if and only if $p=3$ and $v_3(a+b)>0$. The computation box below verifies that $v_3(a+b)>0$ is equivalent to $v_3((a^3+3a^2b-6ab^2+b^3)(a^2-ab+b^2))>0$.\n",
    "\n",
    "Now observe that the assumption that $a,b$ are relatively prime implies that $(a^2-ab+b^2)(a^3+3a^2b-6ab^2+b^3) \\not \\equiv 0 \\mod p$ for $p=2,3,5$. Consequently, condition (ii) and (iii) become $v_p((a^2-ab+b^2)(a^3+3a^2b-6ab^2+b^3))>0$ with $p\\geq7$. We now consider these three cases separately."
   ]
  },
  {
   "cell_type": "code",
   "execution_count": 26,
   "metadata": {
    "collapsed": false
   },
   "outputs": [
    {
     "name": "stdout",
     "output_type": "stream",
     "text": [
      "True\n",
      "True\n"
     ]
    }
   ],
   "source": [
    "print(PolyModFactor(a^3+3*a^2*b-6*a*b^2+b^3,3)==PolyModFactor((a+b)^3,3))\n",
    "print(PolyModFactor(a^2-a*b+b^2,3)==PolyModFactor((a+b)^2,3))"
   ]
  },
  {
   "cell_type": "markdown",
   "metadata": {
    "collapsed": false
   },
   "source": [
    "**Subcase a.** Suppose $v_p(ab(a-b))>0$. Then the following is a global minimal model for $E_T$:"
   ]
  },
  {
   "cell_type": "code",
   "execution_count": 27,
   "metadata": {
    "collapsed": false
   },
   "outputs": [
    {
     "name": "stdout",
     "output_type": "stream",
     "text": [
      "a1\n",
      "(-1) * (-2*a^3*b^2 + 2*a^2*b^3 - a^3 - a*b^2 + b^3)\n",
      "a2\n",
      "(-1) * b * (-a + b) * a * (-a^4*b^3 + a^3*b^4 - a^4*b - a^2*b^3 + a*b^4 + a^2*b - a*b^2 + b^3 + 3)\n",
      "a3\n",
      "(-1) * b * (-a + b) * a * (a^5*b - a^4*b^2 + a^3*b^3 + a^3 + a*b^2 - b^3)\n",
      "a4\n",
      "(-1) * b^2 * (-a + b)^2 * a^2 * (a^6*b^2 - a^5*b^3 + a^4*b^4 + a^4*b + a^2*b^3 - a*b^4 - 2*a^2*b + 2*a*b^2 - 2*b^3 - 3)\n",
      "a6\n",
      "(-1) * b^3 * (-a + b)^3 * a^3 * (a^2*b - a*b^2 + b^3 + 1)\n",
      "Disc\n",
      "(-1) * b^9 * a^9 * (a - b)^9 * (a^2 - a*b + b^2)^3 * (a^3 + 3*a^2*b - 6*a*b^2 + b^3)\n"
     ]
    }
   ],
   "source": [
    "F91=E9(a,b).change_weierstrass_model(1,a*b*(a-b),a*b*a*b*(a-b),0) # This is F1 in the paper\n",
    "vals(F91)"
   ]
  },
  {
   "cell_type": "markdown",
   "metadata": {
    "collapsed": false
   },
   "source": [
    "In particular, $p$ divides $a_3,a_4$, and $a_6$. Consequently,\n",
    "$$ t^2 +a_1t-a_2 \\equiv t(t+a^3 + ab^2 - b^3) \\mod p.$$\n",
    "By Tate's Algorithm, $E_T$ has Neron type $I_{9v_p(ab(a-b))}$ and split multiplicative reduction at $p$."
   ]
  },
  {
   "cell_type": "markdown",
   "metadata": {
    "collapsed": false
   },
   "source": [
    "**Subcase b.** Suppose $v_p(a^2-ab+b^2)>0$ with $p\\geq7$. Then the invariants $c_4$ and $c_6$ associated to a global minimal model of $E_T$ are:"
   ]
  },
  {
   "cell_type": "code",
   "execution_count": 3,
   "metadata": {
    "collapsed": false
   },
   "outputs": [
    {
     "name": "stdout",
     "output_type": "stream",
     "text": [
      "Elliptic Curve defined by y^2 + (a^3+a*b^2-b^3)*x*y + (a^7*b^2-2*a^6*b^3+2*a^5*b^4-a^4*b^5)*y = x^3 + (a^4*b^2-2*a^3*b^3+2*a^2*b^4-a*b^5)*x^2 over Fraction Field of Multivariate Polynomial Ring in a, b, p, l, u, v, c, d, r, s, t, x, y, k, j, e over Rational Field\n",
      "c4\n",
      "(a^3 - 3*a*b^2 + b^3) * (a^9 - 9*a^7*b^2 + 27*a^6*b^3 - 45*a^5*b^4 + 54*a^4*b^5 - 48*a^3*b^6 + 27*a^2*b^7 - 9*a*b^8 + b^9)\n",
      "c6\n",
      "(-1) * (a^18 - 18*a^16*b^2 + 42*a^15*b^3 + 27*a^14*b^4 - 306*a^13*b^5 + 735*a^12*b^6 - 1080*a^11*b^7 + 1359*a^10*b^8 - 2032*a^9*b^9 + 3240*a^8*b^10 - 4230*a^7*b^11 + 4128*a^6*b^12 - 2970*a^5*b^13 + 1557*a^4*b^14 - 570*a^3*b^15 + 135*a^2*b^16 - 18*a*b^17 + b^18)\n"
     ]
    }
   ],
   "source": [
    "K=E9(a,b)\n",
    "print(K)\n",
    "print('c4')\n",
    "print(factor(K.c4()))\n",
    "print('c6')\n",
    "print(factor(K.c6()))"
   ]
  },
  {
   "cell_type": "markdown",
   "metadata": {
    "collapsed": false
   },
   "source": [
    "By [SZ03, Proposition 4.4], $E_T$ has split multiplicative reduction at $p$ iff $-c_4c_6$ is a square in $\\mathbb{F}_p$. Let $l=a^2 -ab +b^2$ and observe that the computation box below verifies that\n",
    "$$-c_4c_6 \\equiv 243ab^{29} \\mod p  $$\n",
    "$$\\Longrightarrow \\quad \\left(\\frac{-c_4c_6}{p}\\right) = \\left(\\frac{3ab^3}{p}\\right)= \\left(\\frac{-3a^4}{p}\\right)=\\left(\\frac{-3}{p}\\right) \\text{ since } ab^3 = l(a^2+ab)-a^4.$$\n",
    "\n",
    "By Tate's Algorithm, $E_T$ has Neron type $I_{3v_p(a^2-ab+b^2)}$ and if\n",
    "$$\\left(\\frac{-3}{p}\\right)= \\left\\{ \\begin{array}{cl} 1&\\text{then }E_T\\text{ has split multiplicative reduction at }p \\\\-1 & \\text{then }E_T\\text{ has non-split multiplicative reduction at }p.\\end{array}\\right. $$"
   ]
  },
  {
   "cell_type": "code",
   "execution_count": 36,
   "metadata": {
    "collapsed": false
   },
   "outputs": [
    {
     "name": "stdout",
     "output_type": "stream",
     "text": [
      "0\n",
      "243*a*b^29\n",
      "0\n"
     ]
    }
   ],
   "source": [
    "f(l) = l * (a^28 + a^27*b - 30*a^26*b^2 + 39*a^25*b^3 + 294*a^24*b^4 - 1095*a^23*b^5 + 636*a^22*b^6 +    4791*a^21*b^7 - 15735*a^20*b^8 + 23418*a^19*b^9 - 14199*a^18*b^10 - 15945*a^17*b^11 +    58650*a^16*b^12 - 113469*a^15*b^13 + 204639*a^14*b^14 -  363012*a^13*b^15 +    582216*a^12*b^16 - 790368*a^11*b^17 + 880260*a^10*b^18 -  794094*a^9*b^19 +    577653*a^8*b^20 - 337047*a^7*b^21 + 155265*a^6*b^22 -  55248*a^5*b^23 + 15162*a^4*b^24 -    2886*a^3*b^25 + 132*a^2*b^26 - 272*a*b^27 + b^28) + 243*a*b^29\n",
    "print(expand(f(a^2-a*b+b^2) - (-K.c4()*K.c6())))\n",
    "print(f(0))\n",
    "print(expand(a*b^3-((a^2-a*b+b^2)*(a^2+a*b)-a^4)))"
   ]
  },
  {
   "cell_type": "markdown",
   "metadata": {
    "collapsed": false
   },
   "source": [
    "**Subcase 5c.** Suppose $v_p(a^3+3a^2b-6ab^2+b^3)>0$ with $p\\geq7$. By [ScZi, Proposition 4.4], $E_T$ has split multiplicative reduction at $p$ iff $-c_4c_6$ is a square in $\\mathbb{F}_p$. Let $l=a^3+3a^2b-6ab^2+b^3$ and observe that the computation box below verifies that\n",
    "$$-c_4c_6 \\equiv -243(ab(a-b))^{10} \\mod p  $$\n",
    "$$\\Longrightarrow \\quad \\left(\\frac{-c_4c_6}{p}\\right) = \\left(\\frac{-3}{p}\\right).$$\n",
    "\n",
    "By Tate's Algorithm, $E_T$ has Neron type $I_{v_p(a^3+3a^2b-6ab^2+b^3)}$ and if\n",
    "$$\\left(\\frac{-3}{p}\\right)= \\left\\{ \\begin{array}{cl} 1&\\text{then }E_T\\text{ has split multiplicative reduction at }p \\\\-1 & \\text{then }E_T\\text{ has non-split multiplicative reduction at }p.\\end{array}\\right. $$"
   ]
  },
  {
   "cell_type": "code",
   "execution_count": 37,
   "metadata": {
    "collapsed": false
   },
   "outputs": [
    {
     "name": "stdout",
     "output_type": "stream",
     "text": [
      "0\n",
      "-243*(a^2*b - a*b^2)^10\n"
     ]
    }
   ],
   "source": [
    "f(l)=((l) -3*a^2*b + 3*a*b^2)* ((l)^3 + (-3) * b * a * (a - b) * ( 3*(l)^2 + (-1) * b * a * (a - b) * (9*(l) + (-1) * b * a * (a - b)))) * ( (l)^6 + (-9) * b * a * (a - b) * (2*(l)^5 + (-1) * b * a * (a - b) * (15*(l)^4 +(-1) * b * a * (a - b) *(56*(l)^3 + (-3) * b * a * (a - b) * (33*(l)^2 +(-1) * b * a * (a - b) * (18*(l) + b * a * (a - b)) )) )))\n",
    "print(expand(f(a^3 + 3*a^2*b - 6*a*b^2 + b^3) - (-K.c4()*K.c6())))\n",
    "print(f(0))"
   ]
  },
  {
   "cell_type": "code",
   "execution_count": 0,
   "metadata": {
    "collapsed": false
   },
   "outputs": [
   ],
   "source": [
   ]
  },
  {
   "cell_type": "markdown",
   "metadata": {
    "collapsed": false
   },
   "source": [
    "**Here we verify Lemma 2.1 and Theorem 2.2 for  $T=C_{10}$.** The minimal discriminant of $E_T$ is given by\n",
    "$$\\Delta = u^{-12}a^5 b^{10}(a - b)^{10} (a - 2b)^5 (a^2 + 2ab - 4b^2) (a^2 - 3ab + b^2)^2\\text{ where } u=\\left\\{ \\begin{array}{cl} 2&\\text{if }v_2(a)\\geq1 \\\\1 & \\text{if }v_2(a)=0.\\end{array}\\right.$$\n",
    "By [Bar20, Theorem 7.1], $E_T$ has multiplicative reduction at a prime $p$ iff \n",
    "\n",
    "(i) $v_p(ab(a-b)(a-2b))>0$ with $p \\neq 2$ if $v_2(a)>0$, \n",
    "\n",
    "(ii) $v_2(a)>0$, \n",
    "\n",
    "(iii) $v_p(a^2 + 2ab - 4b^2)>0$ with $p \\neq 2,5$, or\n",
    "\n",
    "(iv) $v_p(a^2 - 3ab + b^2)>0$ with $p \\neq 5$.\n",
    "\n",
    "For (iii) and (iv), we observe that $E_T$ has additive reduction if and only if $p=5$ and $v_5(a+b)>0$. The computation box below verifies that $v_5(a+b)>0$ is equivalent to $v_5((a^2 + 2ab - 4b^2)(a^2 - 3ab + b^2))>0$.\n",
    "\n",
    "Now observe that the assumption that $a,b$ are relatively prime implies that $(a^2 + 2ab - 4b^2)(a^2 - 3ab + b^2) \\not \\equiv 0 \\mod p$ for $p=3,7$. So, we consider (iii) and (iv) together as $v_p((a^2 + 2ab - 4b^2)(a^2 - 3ab + b^2))>0$ with $p\\geq7$. Here we use the fact that $a^2 - 3ab + b^2$ is always odd and $a^2 + 2ab - 4b^2$ is even if $v_2(a)>0$ which is considered in (ii)."
   ]
  },
  {
   "cell_type": "code",
   "execution_count": 30,
   "metadata": {
    "collapsed": false
   },
   "outputs": [
    {
     "name": "stdout",
     "output_type": "stream",
     "text": [
      "True\n"
     ]
    }
   ],
   "source": [
    "print(PolyModFactor((a^2 - 3*a*b + b^2)*(a^2 + 2*a*b - 4*b^2),5)==PolyModFactor((a+b)^4,5))"
   ]
  },
  {
   "cell_type": "markdown",
   "metadata": {
    "collapsed": false
   },
   "source": [
    "**Subcase a.** Suppose $v_p(ab(a-b)(a-2b))>0$ with $p \\neq 2$ if $v_2(a)>0$. Then the following is a global minimal model for $E_T$:"
   ]
  },
  {
   "cell_type": "code",
   "execution_count": 9,
   "metadata": {
    "collapsed": false
   },
   "outputs": [
    {
     "name": "stdout",
     "output_type": "stream",
     "text": [
      "a1\n",
      "2*a^3*b - 6*a^2*b^2 + 4*a*b^3 + a^3 - 2*a^2*b - 2*a*b^2 + 2*b^3\n",
      "a2\n",
      "(-1) * b * (-a + b) * (-a + 2*b) * a * (a^3*b - 3*a^2*b^2 + 2*a*b^3 + a^3 - 2*a^2*b - 2*a*b^2 + 2*b^3 + b^2 - 3)\n",
      "a3\n",
      "(-1) * b * (-a + b) * (-a + 2*b) * a * (a^3*b^2 - 3*a^2*b^3 + a*b^4 - a^3 + 2*a^2*b + 2*a*b^2 - 2*b^3)\n",
      "a4\n",
      "b^2 * (-a + b)^2 * (-a + 2*b)^2 * a^2 * (a^3*b^2 - 3*a^2*b^3 + a*b^4 - a^3 + 2*a^2*b + 2*a*b^2 - 2*b^3 - 2*b^2 + 3)\n",
      "a6\n",
      "(-1) * (b - 1) * (b + 1) * b^3 * (-a + b)^3 * (-a + 2*b)^3 * a^3\n",
      "Disc\n",
      "a^5 * (a - 2*b)^5 * b^10 * (a - b)^10 * (a^2 + 2*a*b - 4*b^2) * (a^2 - 3*a*b + b^2)^2\n"
     ]
    }
   ],
   "source": [
    "F1=E10(a,b).change_weierstrass_model(1,a*b*(a-b)*(a - 2*b),a*b*(a-b)*(a - 2*b),0) #This is F1\n",
    "vals(F1)"
   ]
  },
  {
   "cell_type": "markdown",
   "metadata": {
    "collapsed": false
   },
   "source": [
    "In particular, $p$ divides $a_3,a_4$, and $a_6$. Consequently,\n",
    "$$ t^2 +a_1t-a_2 \\equiv t(t+ a^3 - 2a^2b - 2ab^2 + 2b^3) \\mod p.$$\n",
    "By Tate's Algorithm, $E_T$ has Neron type $I_{5v_p(a(a-2b)+10v_p(b(a-b)}$ and split multiplicative reduction at $p$."
   ]
  },
  {
   "cell_type": "markdown",
   "metadata": {
    "collapsed": false
   },
   "source": [
    "**Subcase b.** Suppose $v_2(a)>0$. Then the following is a global minimal model for $E_T$:"
   ]
  },
  {
   "cell_type": "code",
   "execution_count": 7,
   "metadata": {
    "collapsed": false
   },
   "outputs": [
    {
     "name": "stdout",
     "output_type": "stream",
     "text": [
      "a1\n",
      "(1/2) * (16*a^3*b - 48*a^2*b^2 + 32*a*b^3 + a^3 - 2*a^2*b - 2*a*b^2 + 2*b^3)\n",
      "a2\n",
      "(-1/4) * b * (-a + b) * (-a + 2*b) * a * (64*a^3*b - 192*a^2*b^2 + 128*a*b^3 + 8*a^3 - 16*a^2*b - 16*a*b^2 + 16*b^3 + b^2 - 12)\n",
      "a3\n",
      "(-1/8) * b * (-a + b) * (-a + 2*b) * a * (a^3*b^2 - 3*a^2*b^3 + a*b^4 - 4*a^3 + 8*a^2*b + 8*a*b^2 - 8*b^3)\n",
      "a4\n",
      "(1/2) * b^2 * (-a + b)^2 * (-a + 2*b)^2 * a^2 * (a^3*b^2 - 3*a^2*b^3 + a*b^4 - 4*a^3 + 8*a^2*b + 8*a*b^2 - 8*b^3 - b^2 + 6)\n",
      "a6\n",
      "(-1/4) * (b - 2) * (b + 2) * b^3 * (-a + b)^3 * (-a + 2*b)^3 * a^3\n",
      "Disc\n",
      "(1/4096) * a^5 * (a - 2*b)^5 * b^10 * (a - b)^10 * (a^2 + 2*a*b - 4*b^2) * (a^2 - 3*a*b + b^2)^2\n"
     ]
    }
   ],
   "source": [
    "F2=E10(a,b).change_weierstrass_model(2,4*a*b*(a-b) * (a - 2*b),8*a*b*(a-b) * (a - 2*b),0) #This is F2\n",
    "vals(F2)"
   ]
  },
  {
   "cell_type": "markdown",
   "metadata": {
    "collapsed": false
   },
   "source": [
    "By inspection, each $a_j$ is an integer. Now observe that $a_2$ is even and $a_1$ is odd. Consequently,\n",
    "$$ t^2 +a_1t-a_2 \\equiv t(t+ 1) \\mod 2.$$\n",
    "By Tate's Algorithm, $E_T$ has Neron type $I_{5v_2(a(a-2b))+v_2(a^2+2ab-4b^2)-12}$ and split multiplicative reduction at $2$."
   ]
  },
  {
   "cell_type": "markdown",
   "metadata": {
    "collapsed": false
   },
   "source": [
    "**Subcase c.** Suppose $v_p(a^2 + 2ab - 4b^2)>0$ with $p \\geq 11$. By [SZ03, Proposition 4.4], $E_T$ has split multiplicative reduction at $p$ iff $-c_4c_6$ is a square in $\\mathbb{F}_p$. Let $l=a^2 + 2ab - 4b^2$ and observe that the computation box below verifies that\n",
    "$$-c_4c_6 \\equiv  2^{10}5^2(ab-b^2)^{14}(2ab-3b^2) \\mod p  $$\n",
    "$$\\Longrightarrow \\quad \\left(\\frac{-c_4c_6}{p}\\right) = \\left(\\frac{2ab-3b^2}{p}\\right)=\\left(\\frac{l+b^2-a^2}{p}\\right)=\\left(\\frac{b^2-a^2}{p}\\right).$$\n",
    "\n",
    "\n",
    "By Tate's Algorithm, $E_T$ has Neron type $I_{v_p(a^2 + 2ab - 4b^2)}$ and if\n",
    "$$\\left(\\frac{b^2-a^2}{p}\\right)= \\left\\{ \\begin{array}{cl} 1&\\text{then }E_T\\text{ has split multiplicative reduction at }p \\\\-1 & \\text{then }E_T\\text{ has non-split multiplicative reduction at }p.\\end{array}\\right. $$"
   ]
  },
  {
   "cell_type": "code",
   "execution_count": 33,
   "metadata": {
    "collapsed": false
   },
   "outputs": [
    {
     "name": "stdout",
     "output_type": "stream",
     "text": [
      "0\n",
      "25600*(2*a*b - 3*b^2)*(a*b - b^2)^14\n",
      "2^10 * 5^2\n",
      "True\n"
     ]
    }
   ],
   "source": [
    "K=E10(a,b)\n",
    "f(l) = ((l) - (2) * b * (2*a - 3*b))*((l)^2 + (-2) * b * (a - b) * (3*(l)+(-5) * b * (a - b)))*((l)^4 + (-2) * b * (a - b) * (7*(l)^3 + (-1) * b * (a - b) * (33*(l)^2 + (-2) * b * (a - b) * (26*(l)+b * (a - b)) )))*((l)^6 + (-20) * b * (a - b) * ((l)^5 + (-4) * b * (a - b) * (2*(l)^4 + (-1) * b * (a - b) * (8*(l)^3 + (-1) * b * (a - b) * (16*(l)^2 + (-1) * b * (a - b) * (13*(l) + (-1) * b * (a - b)))))))*((l)^2 + (-2) * b * (a - b) * (3*(l) + (-2) * b * (a - b)))\n",
    "print(expand(f(a^2+2*a*b-4*b^2) - (-K.c4()*K.c6())))\n",
    "print(f(0))\n",
    "print(factor(25600))\n",
    "print((a^2+2*a*b-4*b^2 + b^2 -a^2) ==2*a*b-3*b^2)"
   ]
  },
  {
   "cell_type": "markdown",
   "metadata": {
    "collapsed": false
   },
   "source": [
    "**Subcase d.** Suppose $v_p(a^2 - 3ab + b^2)>0$ with $p \\geq 11$. By [SZ03, Proposition 4.4], $E_T$ has split multiplicative reduction at $p$ iff $-c_4c_6$ is a square in $\\mathbb{F}_p$. Let $l=a^2 - 3ab + b^2$ and observe that the computation box below verifies that\n",
    "$$-c_4c_6 \\equiv  -25(ab-b^2)^{14}(ab+b^2) \\mod p  $$\n",
    "$$\\Longrightarrow \\quad \\left(\\frac{-c_4c_6}{p}\\right) = \\left(\\frac{-(ab+b^2)}{p}\\right).$$\n",
    "\n",
    "By Tate's Algorithm, $E_T$ has Neron type $I_{2v_p(a^2 - 3ab + b^2)}$ and if\n",
    "$$\\left(\\frac{-(ab+b^2)}{p}\\right)= \\left\\{ \\begin{array}{cl} 1&\\text{then }E_T\\text{ has split multiplicative reduction at }p \\\\-1 & \\text{then }E_T\\text{ has non-split multiplicative reduction at }p.\\end{array}\\right. $$"
   ]
  },
  {
   "cell_type": "code",
   "execution_count": 31,
   "metadata": {
    "collapsed": false
   },
   "outputs": [
    {
     "name": "stdout",
     "output_type": "stream",
     "text": [
      "0\n",
      "-25*(a*b + b^2)*(a*b - b^2)^14\n"
     ]
    }
   ],
   "source": [
    "K=E10(a,b)\n",
    "f(l) = ((l) + b*(a+b))* ((l)^2 + b * (a - b) * (4*(l)+((5) * b * (a - b))))* ((l)^2 + b * (a - b) * (4*(l)+(-1) * b * (a - b))) * ((l)^4 + b * (a - b) *(6*(l)^3 +b * (a - b) * (6*(l)^2 + b * (a - b) * (6*(l)+b * (a - b))))) * ((l)^6+ (5) * b * (a - b)* (2*(l)^5 + b * (a - b) * (7*(l)^4+b * (a - b) *(12*(l)^3 + b * (a - b) * (11*(l)^2 + b * (a - b) * (2*(l) + b * (a - b)))))))\n",
    "print(expand(f(a^2-3*a*b + b^2) - (-K.c4()*K.c6())))\n",
    "print(f(0))"
   ]
  },
  {
   "cell_type": "code",
   "execution_count": 0,
   "metadata": {
    "collapsed": false
   },
   "outputs": [
   ],
   "source": [
   ]
  }
 ],
 "metadata": {
  "kernelspec": {
   "display_name": "SageMath 9.1",
   "language": "sagemath",
   "metadata": {
    "cocalc": {
     "description": "Open-source mathematical software system",
     "priority": 10,
     "url": "https://www.sagemath.org/"
    }
   },
   "name": "sage-9.1",
   "resource_dir": "/ext/jupyter/kernels/sage-9.1"
  },
  "language_info": {
   "codemirror_mode": {
    "name": "ipython",
    "version": 3
   },
   "file_extension": ".py",
   "mimetype": "text/x-python",
   "name": "python",
   "nbconvert_exporter": "python",
   "pygments_lexer": "ipython3",
   "version": "3.7.3"
  }
 },
 "nbformat": 4,
 "nbformat_minor": 4
}