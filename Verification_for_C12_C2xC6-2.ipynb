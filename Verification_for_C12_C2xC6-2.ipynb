{
 "cells": [
  {
   "cell_type": "code",
   "execution_count": 1,
   "metadata": {
    "collapsed": false
   },
   "outputs": [
   ],
   "source": [
    "from sage.schemes.elliptic_curves.weierstrass_morphism import *\n",
    "S.<a,b,p,l,u,v,c,d,r,s,t,x,y,k,j,e>=QQ[]\n",
    "load('torsion_parametrization.sage')"
   ]
  },
  {
   "cell_type": "markdown",
   "metadata": {
    "collapsed": false
   },
   "source": [
    "**Here we verify the claims in Lemma 2.1 and Theorem 2.2 for $T=C_{12}$.** The curve $E12(a,b)$ corresponds to the curve $E_{T}$ as in the paper. The minimal discriminant of $E_T$ is given by\n",
    "$$\\Delta = u^{-12}a^2 b^{12}(a - b)^{12} (a - 2b)^6(a^2 - 6ab + 6b^2) (a^2 - 2ab + 2b^2)^3 (a^2 - 3ab + 3b^2)^4 \\text{ where } u=\\left\\{ \\begin{array}{cl} 2&\\text{if }v_2(a)\\geq1 \\\\1 & \\text{if }v_2(a)=0.\\end{array}\\right.$$\n",
    "By [Bar20, Theorem 7.1], $E_T$ has multiplicative reduction at a prime $p$ iff \n",
    "\n",
    "(i) $v_p(ab(a-b)(a-2b))>0$ with $v_2(a)=0$ if $p=2$ and $v_3(a)=0$ if $p=3$, or\n",
    "\n",
    "(ii) $v_2(a)>0$, or\n",
    "\n",
    "(iii) $v_p((a^2 - 6ab + 6b^2)(a^2 - 2ab + 2b^2)(a^2 - 3ab + 3b^2)>0$ with $p\\geq5$. "
   ]
  },
  {
   "cell_type": "markdown",
   "metadata": {
    "collapsed": false
   },
   "source": [
    "**Subcase a.** Suppose $v_p(b(a-b)(a-2b))>0$  with (i) $v_2(a)=0$ if $p=2$ and (ii) $v_3(a)=0$ if $p=3$. Then the following is a global minimal model for $E_T$:"
   ]
  },
  {
   "cell_type": "code",
   "execution_count": 41,
   "metadata": {
    "collapsed": false
   },
   "outputs": [
    {
     "name": "stdout",
     "output_type": "stream",
     "text": [
      "a1\n",
      "(-1) * (a^4 - 4*a^3*b + 4*a^2*b^2 + 4*a*b^3 - 6*b^4)\n",
      "a2\n",
      "(-1) * b * (-a + b) * (-a + 2*b) * (-2*a^5 + 9*a^4*b - 17*a^3*b^2 + 17*a^2*b^3 - 12*a*b^4 + 6*b^5 - 3*a)\n",
      "a3\n",
      "(-1) * b * (-a + b) * (-a + 2*b) * a * (a^8 - 9*a^7*b + 37*a^6*b^2 - 90*a^5*b^3 + 141*a^4*b^4 - 145*a^3*b^5 + 95*a^2*b^6 - 36*a*b^7 + 6*b^8 + a^4 - 2*a^3*b - 2*a^2*b^2 + 8*a*b^3 - 6*b^4)\n",
      "a4\n",
      "a * b^2 * (-a + b)^2 * (-a + 2*b)^2 * (a^9 - 9*a^8*b + 37*a^7*b^2 - 90*a^6*b^3 + 141*a^5*b^4 - 145*a^4*b^5 + 95*a^3*b^6 - 36*a^2*b^7 + 6*a*b^8 + 3*a^5 - 14*a^4*b + 30*a^3*b^2 - 38*a^2*b^3 + 30*a*b^4 - 12*b^5 + 3*a)\n",
      "a6\n",
      "(-1) * a^2 * b^3 * (-a + b)^3 * (-a + 2*b)^3 * (-a^5 + 6*a^4*b - 16*a^3*b^2 + 23*a^2*b^3 - 18*a*b^4 + 6*b^5 - a)\n",
      "Disc\n",
      "a^2 * (a - 2*b)^6 * b^12 * (a - b)^12 * (a^2 - 6*a*b + 6*b^2) * (a^2 - 2*a*b + 2*b^2)^3 * (a^2 - 3*a*b + 3*b^2)^4\n"
     ]
    }
   ],
   "source": [
    "F1=E12(a,b).change_weierstrass_model(1,a*b*(a-b) * (a-2*b),a*b*(a-b) * (a - 2*b),0) # This is F1 in the paper\n",
    "vals(F1)"
   ]
  },
  {
   "cell_type": "code",
   "execution_count": 60,
   "metadata": {
    "collapsed": false
   },
   "outputs": [
    {
     "name": "stdout",
     "output_type": "stream",
     "text": [
      "(a^4 - 6*a^3*b + 12*a^2*b^2 - 12*a*b^3 + 6*b^4) * (a^8 - 12*a^7*b + 60*a^6*b^2 - 168*a^5*b^3 + 288*a^4*b^4 - 312*a^3*b^5 + 216*a^2*b^6 - 96*a*b^7 + 24*b^8) * (a^12 - 18*a^11*b + 144*a^10*b^2 - 684*a^9*b^3 + 2154*a^8*b^4 - 4728*a^7*b^5 + 7368*a^6*b^6 - 8112*a^5*b^7 + 6132*a^4*b^8 - 3000*a^3*b^9 + 864*a^2*b^10 - 144*a*b^11 + 24*b^12) * (a^16 - 24*a^15*b + 264*a^14*b^2 - 1776*a^13*b^3 + 8208*a^12*b^4 - 27696*a^11*b^5 + 70632*a^10*b^6 - 138720*a^9*b^7 + 211296*a^8*b^8 - 248688*a^7*b^9 + 222552*a^6*b^10 - 146304*a^5*b^11 + 65880*a^4*b^12 - 17136*a^3*b^13 + 1008*a^2*b^14 + 576*a*b^15 - 72*b^16)\n"
     ]
    }
   ],
   "source": [
    "K=E12(a,b)\n",
    "print(factor((-K.c4()*K.c6())))"
   ]
  },
  {
   "cell_type": "markdown",
   "metadata": {
    "collapsed": false
   },
   "source": [
    "In particular, $p$ divides $a_2,a_3,a_4$, and $a_6$. Consequently, if $p|b(a-b)(a-2b)$ then\n",
    "$$ t^2 +a_1t-a_2 \\equiv t(t+ a_1) \\mod p.$$\n",
    "\n",
    "By Tate's Algorithm, $E_T$ has Neron type $I_{6v_p(a-2b)+12v_p(b(a-b))}$ and split multiplicative reduction at $p$."
   ]
  },
  {
   "cell_type": "markdown",
   "metadata": {
    "collapsed": false
   },
   "source": [
   ]
  },
  {
   "cell_type": "markdown",
   "metadata": {
    "collapsed": false
   },
   "source": [
    "**Subcase b.** Suppose $v_2(a)>0$. Then the following is a global minimal model for $E_T$:"
   ]
  },
  {
   "cell_type": "code",
   "execution_count": 43,
   "metadata": {
    "collapsed": false
   },
   "outputs": [
    {
     "name": "stdout",
     "output_type": "stream",
     "text": [
      "a1\n",
      "(-1/2) * (a^4 - 18*a^3*b + 46*a^2*b^2 - 24*a*b^3 - 6*b^4)\n",
      "a2\n",
      "(-1/4) * b * (-a + b) * (-a + 2*b) * (-9*a^5 + 86*a^4*b - 192*a^3*b^2 + 87*a^2*b^3 + 30*a*b^4 + 6*b^5 - 12*a)\n",
      "a3\n",
      "(-1/8) * b * (-a + b) * (-a + 2*b) * a * (a^8 - 9*a^7*b + 37*a^6*b^2 - 90*a^5*b^3 + 141*a^4*b^4 - 145*a^3*b^5 + 95*a^2*b^6 - 36*a*b^7 + 6*b^8 + 4*a^4 - 8*a^3*b - 8*a^2*b^2 + 32*a*b^3 - 24*b^4)\n",
      "a4\n",
      "(1/2) * a * b^2 * (-a + b)^2 * (-a + 2*b)^2 * (a^9 - 9*a^8*b + 37*a^7*b^2 - 90*a^6*b^3 + 141*a^5*b^4 - 145*a^4*b^5 + 95*a^3*b^6 - 36*a^2*b^7 + 6*a*b^8 + 5*a^5 - 14*a^4*b + 8*a^3*b^2 + 9*a^2*b^3 - 6*a*b^4 - 6*b^5 + 6*a)\n",
      "a6\n",
      "(-1/4) * a^2 * b^3 * (-a + b)^3 * (-a + 2*b)^3 * (-a^5 + 6*a^4*b - 16*a^3*b^2 + 23*a^2*b^3 - 18*a*b^4 + 6*b^5 - 4*a)\n",
      "Disc\n",
      "(1/4096) * a^2 * (a - 2*b)^6 * b^12 * (a - b)^12 * (a^2 - 6*a*b + 6*b^2) * (a^2 - 2*a*b + 2*b^2)^3 * (a^2 - 3*a*b + 3*b^2)^4\n"
     ]
    }
   ],
   "source": [
    "F2=E12(a,b).change_weierstrass_model(2,4*a*b*(a-b) * (a - 2*b),8*a*b*(a-b) * (a - 2*b),0) # This is F2 in the paper\n",
    "vals(F2)"
   ]
  },
  {
   "cell_type": "markdown",
   "metadata": {
    "collapsed": false
   },
   "source": [
    "By inspection, each $a_j$ is an integer. Now observe that $a_1$ is odd and\n",
    "\n",
    "\n",
    "$$a_2 \\equiv \\left\\{ \\begin{array}{cl} 1\\mod2&\\text{if }v_2(a) \\geq 2 \\\\ 0 \\mod2 & \\text{if }v_2(a) = 1\\end{array}\\right. $$\n",
    "$$\\Longrightarrow \\quad t^2 +a_1t-a_2 \\equiv \\left\\{ \\begin{array}{cl} t^2+t+1 \\mod 2 & \\text{if }v_2(a) \\geq 2 \\\\ t(t+1) \\mod 2 & \\text{if }v_2(a)=1.\\end{array}\\right.$$\n",
    "\n",
    "\n",
    "By Tate's Algorithm, $E_T$ has Neron type $I_{2v_2(a)+6v_2(a-2b)-8}$. Lastly, if\n",
    "$$v_2(a)= \\left\\{ \\begin{array}{cl} 1&\\text{then }E_T\\text{ has split multiplicative reduction at }p \\\\\\geq 2 & \\text{then }E_T\\text{ has non-split multiplicative reduction at }p.\\end{array}\\right. $$"
   ]
  },
  {
   "cell_type": "markdown",
   "metadata": {
    "collapsed": false
   },
   "source": [
    "**Subcase c.** Suppose $v_p(a)>0$ for $p\\geq 5$. Then $-c_4c_6 \\equiv -2^{10}3^5b^{40} \\mod p$. Consequently, by [SZ03, Proposition 4.4] $E_T$ has Neron type $I_{2v_p(a)}$. Moreover, if\n",
    "$$\\left(\\frac{-3}{p}\\right)= \\left\\{ \\begin{array}{cl} 1&\\text{then }E_T\\text{ has split multiplicative reduction at }p \\\\-1 & \\text{then }E_T\\text{ has non-split multiplicative reduction at }p.\\end{array}\\right. $$"
   ]
  },
  {
   "cell_type": "code",
   "execution_count": 66,
   "metadata": {
    "collapsed": false
   },
   "outputs": [
    {
     "name": "stdout",
     "output_type": "stream",
     "text": [
      "-248832*b^40\n",
      "-1 * 2^10 * 3^5\n"
     ]
    }
   ],
   "source": [
    "f(a,b)=(a^4 - 6*a^3*b + 12*a^2*b^2 - 12*a*b^3 + 6*b^4) * (a^8 - 12*a^7*b + 60*a^6*b^2 - 168*a^5*b^3 + 288*a^4*b^4 - 312*a^3*b^5 + 216*a^2*b^6 - 96*a*b^7 + 24*b^8) * (a^12 - 18*a^11*b + 144*a^10*b^2 - 684*a^9*b^3 + 2154*a^8*b^4 - 4728*a^7*b^5 + 7368*a^6*b^6 - 8112*a^5*b^7 + 6132*a^4*b^8 - 3000*a^3*b^9 + 864*a^2*b^10 - 144*a*b^11 + 24*b^12) * (a^16 - 24*a^15*b + 264*a^14*b^2 - 1776*a^13*b^3 + 8208*a^12*b^4 - 27696*a^11*b^5 + 70632*a^10*b^6 - 138720*a^9*b^7 + 211296*a^8*b^8 - 248688*a^7*b^9 + 222552*a^6*b^10 - 146304*a^5*b^11 + 65880*a^4*b^12 - 17136*a^3*b^13 + 1008*a^2*b^14 + 576*a*b^15 - 72*b^16)\n",
    "print(f(0,b))\n",
    "print(factor(-248832))"
   ]
  },
  {
   "cell_type": "markdown",
   "metadata": {
    "collapsed": false
   },
   "source": [
    "**Subcase d.** Suppose $v_p(a^2 - 6ab + 6b^2)>0$ with $p\\geq5$. By [SZ03, Proposition 4.4], $E_T$ has split multiplicative reduction at $p$ iff $-c_4c_6$ is a square in $\\mathbb{F}_p$. Let $l=a^2 - 6ab + 6b^2$ and observe that the computation box below verifies that\n",
    "$$-c_4c_6 \\equiv  -2^{10}3^5b^{20}(a-b)^{20} \\mod p  $$\n",
    "$$\\Longrightarrow \\quad \\left(\\frac{-c_4c_6}{p}\\right) = \\left(\\frac{-3}{p}\\right).$$\n",
    "\n",
    "By Tate's Algorithm, $E_T$ has Neron type $I_{v_p(a^2 - 6ab + 6b^2)}$ and if\n",
    "$$\\left(\\frac{-3}{p}\\right)= \\left\\{ \\begin{array}{cl} 1&\\text{then }E_T\\text{ has split multiplicative reduction at }p \\\\-1 & \\text{then }E_T\\text{ has non-split multiplicative reduction at }p.\\end{array}\\right. $$"
   ]
  },
  {
   "cell_type": "code",
   "execution_count": 44,
   "metadata": {
    "collapsed": false
   },
   "outputs": [
    {
     "name": "stdout",
     "output_type": "stream",
     "text": [
      "0\n",
      "-248832*(a - b)^20*b^20\n",
      "2^10 * 3^5\n"
     ]
    }
   ],
   "source": [
    "K=E12(a,b)\n",
    "f(l)=(l^2 + (6) * b * (a - b) * (l + b * (a - b)))*( l^4 + (12) * b * (a - b) * (l^3 + (2) * b * (a - b) * (l + b * (a - b)) * (2*l + b*(a-b)))) * (l^6 + (6) * b * (a - b) * (3*l^5 + b * (a - b) * (21*l^4 + (2) * b * (a - b) * (36*l^3 + b * (a - b) * (61*l^2 + (2) * b * (a - b) * (21*l + b*(a-b))))))) * ( l^8 + (24) * b * (a - b) * (l^7 + b * (a - b) * (10*l^6 + b * (a - b) * (54*l^5 + b * (a - b) * (170*l^4 + (3) * b * (a - b) * (104 * l^3 + b * (a - b) * (103*l^2 + b * (a - b) * (42*l+(-1) * b * (a - b)))))))))\n",
    "print(expand(f(a^2-6*a*b+6*b^2)-(-K.c4()*K.c6())))\n",
    "print(factor(f(0)))# This -c_4c_6 mod p\n",
    "print(factor(248832))"
   ]
  },
  {
   "cell_type": "markdown",
   "metadata": {
    "collapsed": false
   },
   "source": [
    "**Subcase e.** Suppose $v_p(a^2 - 2ab + 2b^2)>0$ with $p\\geq5$. By [SZ03, Proposition 4.4], $E_T$ has split multiplicative reduction at $p$ iff $-c_4c_6$ is a square in $\\mathbb{F}_p$. Let $l=a^2 - 2ab + 2b^2$ and observe that the computation box below verifies that\n",
    "$$-c_4c_6 \\equiv  2^{10}b^{40} \\mod p  $$\n",
    "$$\\Longrightarrow \\quad \\left(\\frac{-c_4c_6}{p}\\right) =1.$$\n",
    "\n",
    "By Tate's Algorithm, $E_T$ has Neron type $I_{3v_p(a^2 - 2ab + 2b^2)}$ and $E_T$ has split multiplicative reduction at $p$."
   ]
  },
  {
   "cell_type": "code",
   "execution_count": 45,
   "metadata": {
    "collapsed": false
   },
   "outputs": [
    {
     "name": "stdout",
     "output_type": "stream",
     "text": [
      "0\n",
      "1024*b^40\n"
     ]
    }
   ],
   "source": [
    "K=E12(a,b)\n",
    "f(l) = l*(a^38 - 58*a^37*b + 1622*a^36*b^2 - 29160*a^35*b^3 + 379076*a^34*b^4 -  3800000*a^33*b^5 +    30586168*a^32*b^6 - 203221104*a^31*b^7 + 1137097816*a^30*b^8 -  5439035200*a^29*b^9 +    22498090808*a^28*b^10 - 81204435504*a^27*b^11 +  257576313272*a^26*b^12 -    722029896224*a^25*b^13 + 1796512033792*a^24*b^14 -  3980983389696*a^23*b^15 +    7876113800776*a^22*b^16 - 13935677864656*a^21*b^17 +  22072652615408*a^20*b^18 -    31304227726656*a^19*b^19 + 39735883613024*a^18*b^20 -  45091146903680*a^17*b^21 +    45655169599744*a^16*b^22 - 41130675611136*a^15*b^23 +  32845027675072*a^14*b^24 -    23132512563328*a^13*b^25 + 14275010204288*a^12*b^26 -  7652292797952*a^11*b^27 +    3522755578880*a^10*b^28 - 1370862846464*a^9*b^29 +  440745839104*a^8*b^30 -    112886120448*a^7*b^31 + 21486959488*a^6*b^32 -  2497018624*a^5*b^33 - 21637888*a^4*b^34 +    81368064*a^3*b^35 - 19098112*a^2*b^36 + 2363392*a*b^37 -  124928*b^38)+1024*b^40\n",
    "print(expand(f(a^2-2*a*b+2*b^2)-(-K.c4()*K.c6())))\n",
    "print(factor(f(0))) # This -c_4c_6 mod p"
   ]
  },
  {
   "cell_type": "markdown",
   "metadata": {
    "collapsed": false
   },
   "source": [
    "**Subcase f.** Suppose $v_2(a^2 - 3ab + 3b^2)>0$ with $p\\geq5$. By [ScZi, Proposition 4.4], $E_T$ has split multiplicative reduction at $p$ iff $-c_4c_6$ is a square in $\\mathbb{F}_p$. Let $l=a^2 - 3ab + 3b^2$ and observe that the computation box below verifies that\n",
    "$$-c_4c_6 \\equiv  3^5b^{21}(a-b)^{15}(a-2b)^4 \\mod p  $$\n",
    "$$\\Longrightarrow \\quad \\left(\\frac{-c_4c_6}{p}\\right) = \\left(\\frac{3b(a-b)}{p}\\right)=1\\text{ since } 3b(a-b) = -l +a^2.$$\n",
    "\n",
    "By Tate's Algorithm, $E_T$ has Neron type $I_{4v_p(a^2 - 3ab + 3b^2)}$ and $E_T$ has split multiplicative reduction at $p$."
   ]
  },
  {
   "cell_type": "code",
   "execution_count": 46,
   "metadata": {
    "collapsed": false
   },
   "outputs": [
    {
     "name": "stdout",
     "output_type": "stream",
     "text": [
      "0\n",
      "243*(a - b)^15*(a - 2*b)^4*b^21\n",
      "0\n"
     ]
    }
   ],
   "source": [
    "K=E12(a,b)\n",
    "f(l) =(l^2 + (-3) * b^2 * (l + b * (a - 2*b)))*(l^4 + (-3) * b^2 * (a - b)^2 * (2*l^2 +b^2 * (l + b * (a - 2*b)))) * ( l^6 + (-3) * b^2 * (a - b)^2 * (3*l^4 + (-1) * b^2 * (a - 2*b)^2 * (a - b)^2 * (l + b * (a - b)))) * ( l^8 + (-3) * b^2 * (a - b)^2 * (4*l^6 + (-1) * b^2 * (a - b)^2 * (10*l^4 + (-3) * b^2 * (a - b)^2 * (2*l + (-1) * b * (a - b)) * (2*l + b * (a - b)))))\n",
    "print(expand(f(a^2-3*a*b+3*b^2)-(-K.c4()*K.c6())))\n",
    "print(factor(f(0))) # This -c_4c_6 mod p\n",
    "print(3*b*(b-a) -((a^2-3*a*b+3*b^2)*1-a^2))"
   ]
  },
  {
   "cell_type": "markdown",
   "metadata": {
    "collapsed": false
   },
   "source": [
    "**Next we verify the claims in Lemma 2.1 and Theorem 2.2 for $T=C_{2}\\times C_{6}$.** The curve $E12(a,b)$ corresponds to the curve $E_{T}$ as in the paper. The minimal discriminant of $E_T$ is given by\n",
    "$$\\Delta = u^{-12}(2a)^6(-9a+b)^2(-3a+b)^2(3a+b)^2(-5a+b)^6(-a+b)^6 \\text{ where } u=\\left\\{ \\begin{array}{cl} 16&\\text{if }v_2(a+b)=1 \\\\4 & \\text{if }v_2(a+b)\\geq2 \\\\1 & \\text{if }v_2(a+b)=0.\\end{array}\\right.$$\n",
    "\n",
    "By [Bar20, Theorem 7.1], $E_T$ has multiplicative reduction at a prime $p$ iff \n",
    "\n",
    "(i) $p \\neq 2,3$ and $v_p(\\Delta)>0$,\n",
    "\n",
    "(ii) $p=3$ and $v_3(\\Delta)>0$ with $v_3(b)=0$, \n",
    "\n",
    "(iii) $p=2$ and $v_2(\\Delta)>0$ with $v_2(a+b)=0$, \n",
    "\n",
    "(iv) $p=2$ and $v_2(\\Delta)>0$ with $v_2(a+b)=1$, or \n",
    "\n",
    "(v) $p=2$ and $v_2(\\Delta)>0$ with $v_2(a+b)\\geq2$. We first consider the Weierstrass model $F$ below:"
   ]
  },
  {
   "cell_type": "code",
   "execution_count": 48,
   "metadata": {
    "collapsed": false
   },
   "outputs": [
    {
     "name": "stdout",
     "output_type": "stream",
     "text": [
      "a1\n",
      "-180*a^5 + 216*a^4*b - 16*a^3*b^2 - 24*a^2*b^3 + 4*a*b^4 - 19*a^2 + 2*a*b + b^2\n",
      "a2\n",
      "(-2) * (-5*a + b) * (-a + b) * a * (810*a^7 - 972*a^6*b - 18*a^5*b^2 + 216*a^4*b^3 - 26*a^3*b^4 - 12*a^2*b^5 + 2*a*b^6 + 171*a^4 - 18*a^3*b - 28*a^2*b^2 + 2*a*b^3 + b^4 + 27*a^2 - 3*b^2 + a - b)\n",
      "a3\n",
      "(2) * (-5*a + b) * (-3*a + b) * (-a + b) * a * (3*a + b) * (-19*a^2 + 2*a*b + b^2 - a + b)\n",
      "a4\n",
      "(-4) * (-3*a + b) * (3*a + b) * (-5*a + b)^2 * (-a + b)^2 * a^2 * (171*a^4 - 18*a^3*b - 28*a^2*b^2 + 2*a*b^3 + b^4 + 9*a^3 - 9*a^2*b - a*b^2 + b^3 + 27*a^2 - 3*b^2 + 2*a - 2*b)\n",
      "a6\n",
      "(8) * (-3*a + b)^2 * (3*a + b)^2 * (-5*a + b)^3 * (-a + b)^3 * a^3 * (-9*a^2 + b^2 - a + b)\n",
      "Disc\n",
      "(64) * (-9*a + b)^2 * (-3*a + b)^2 * (3*a + b)^2 * (-5*a + b)^6 * (-a + b)^6 * a^6\n",
      "b2\n",
      "-1080*a^5 + 1296*a^4*b - 96*a^3*b^2 - 144*a^2*b^3 + 24*a*b^4 + 321*a^4 + 12*a^3*b - 90*a^2*b^2 + 12*a*b^3 + b^4\n"
     ]
    }
   ],
   "source": [
    "Z=2*a* (-3*a + b) * (3*a + b) *(-a + b) * (-5*a + b)\n",
    "K1=E26(a,b).change_weierstrass_model(1,Z,Z,0) # this is F1 in the paper\n",
    "vals(K1)\n",
    "print('b2')\n",
    "print(factor(K1.b2()))"
   ]
  },
  {
   "cell_type": "markdown",
   "metadata": {
    "collapsed": false
   },
   "source": [
    "**Subcase a.** Suppose $v_p(2a(b-a)(b-5a))>0$ with $v_3(b)=0$ and $v_2(a+b)=0$. Then $F$ is a global minimal model for $E_T$ and by inspection its Weierstrass coefficients $a_j$ for $j=2,3,4,6$ are divisible by $p$. Consequently,\n",
    "$$ t^2 +a_1t-a_2 \\equiv t(t+ a_1) \\mod p.$$\n",
    "By Tate's Algorithm, $E_T$ has Neron type $I_{6v_p(2a(b-5a)(b-a))}$ and split multiplicative reduction at $p$."
   ]
  },
  {
   "cell_type": "markdown",
   "metadata": {
    "collapsed": false
   },
   "source": [
    "**Subcase b.** Suppose $v_p(b^2-9a^2)>0$ with $v_3(b)=0$ and $v_2(a+b)=0$. Then $p\\geq5$. By [SZ03, Proposition 4.4], $E_T$ has split multiplicative reduction at $p$ iff $-c_4c_6$ is a square in $\\mathbb{F}_p$. Now observe that the computation box below verifies that\n",
    "$$-c_4c_6 \\equiv -2^{10}3^5(5a - b)^{10}a^{10}\\mod p  $$\n",
    "$$\\Longrightarrow \\quad \\left(\\frac{-c_4c_6}{p}\\right) =\\left(\\frac{-3}{p}\\right).$$\n",
    "\n",
    "By Tate's Algorithm, $E_T$ has Neron type $I_{2v_p(b^2-9a^2)}$ and if\n",
    "$$\\left(\\frac{-3}{p}\\right)= \\left\\{ \\begin{array}{cl} 1&\\text{then }E_T\\text{ has split multiplicative reduction at }p \\\\-1 & \\text{then }E_T\\text{ has non-split multiplicative reduction at }p.\\end{array}\\right. $$"
   ]
  },
  {
   "cell_type": "code",
   "execution_count": 49,
   "metadata": {
    "collapsed": false
   },
   "outputs": [
    {
     "name": "stdout",
     "output_type": "stream",
     "text": [
      "0\n",
      "-248832*(5*a - b)^10*a^10\n",
      "2^10 * 3^5\n"
     ]
    }
   ],
   "source": [
    "K=E26(a,b)\n",
    "f(l) = l^10 - 12*(-5*a+b)*a * (5*l^9 -(-5*a+b)*a*(115*l^8 -8*(-5*a+b)*a *(160*l^7 - 3*(-5*a + b) * a *(305*l^6 - 12*(-5*a + b) * a * (77*l^5 - (-5*a + b) * a * (119*l^4 + (-6) * (-5*a + b) * a *(l + (2) * (-5*a + b) * a) * (8*l^2 + (-1) * (-5*a + b) * a * (13*l + (-6) * (-5*a + b) * a) )))))))\n",
    "print(expand(f(b^2-9*a^2)-(-K.c4()*K.c6())))\n",
    "print(factor(f(0)))\n",
    "print(factor(248832))"
   ]
  },
  {
   "cell_type": "markdown",
   "metadata": {
    "collapsed": false
   },
   "source": [
    "**Subcase c.** Suppose $v_p(b-9a)>0$ with $v_3(b)=0$ and $v_2(a+b)=0$. Then $p\\geq5$. By [SZ03, Proposition 4.4], $E_T$ has split multiplicative reduction at $p$ iff $-c_4c_6$ is a square in $\\mathbb{F}_p$. Now observe that the computation box below verifies that\n",
    "$$-c_4c_6 \\equiv -2^{40}3^5a^{20} \\mod p  $$\n",
    "$$\\Longrightarrow \\quad \\left(\\frac{-c_4c_6}{p}\\right) = \\left(\\frac{-3}{p}\\right).$$\n",
    "\n",
    "By Tate's Algorithm, $E_T$ has Neron type $I_{2v_p(b-9a)}$ and if\n",
    "$$\\left(\\frac{-3}{p}\\right)= \\left\\{ \\begin{array}{cl} 1&\\text{then }E_T\\text{ has split multiplicative reduction at }p \\\\-1 & \\text{then }E_T\\text{ has non-split multiplicative reduction at }p.\\end{array}\\right. $$"
   ]
  },
  {
   "cell_type": "code",
   "execution_count": 50,
   "metadata": {
    "collapsed": false
   },
   "outputs": [
    {
     "name": "stdout",
     "output_type": "stream",
     "text": [
      "0\n"
     ]
    }
   ],
   "source": [
    "L1=b-9*a\n",
    "Q1=-30560689564641*a^19 - 2087244756909*a^18*b - 831950152011*a^17*b^2 -    161087191479*a^16*b^3 + 146998356444*a^15*b^4 -  43406768916*a^14*b^5 +    219485700*a^13*b^6 + 2629748052*a^12*b^7 - 542279934*a^11*b^8 -  111530790*a^10*b^9 +    112949478*a^9*b^10 - 39250242*a^8*b^11 + 6259500*a^7*b^12 +  393852*a^6*b^13 -    437868*a^5*b^14 + 105636*a^4*b^15 - 14121*a^3*b^16 +  1131*a^2*b^17 - 51*a*b^18 + b^19\n",
    "R1=- 2^40 * 3^5 * a^20\n",
    "print(expand(-K.c4()*K.c6() - ((L1*Q1 + R1))))"
   ]
  },
  {
   "cell_type": "markdown",
   "metadata": {
    "collapsed": false
   },
   "source": [
    "**Subcase d.** Suppose $v_2(a+b)=1$ and either $v_2(a-b)=2$ or $v_2(a-b)\\geq 4$. Now consider the following Weierstrass model ($F_2$ in the paper):"
   ]
  },
  {
   "cell_type": "markdown",
   "metadata": {
    "collapsed": false
   },
   "source": [
    "Now let $a-b=4k$ for some integer $k$. Note that if $v_2(a-b)=2$ (resp. $v_2(a-b)\\geq 4$), then $v_2(k)=0$ (resp. $v_2(k)\\geq2$). Then by the computation box below and the fact that $b$ is odd, we deduce that\n",
    "$$\\begin{align} a_1 =& -2 - b^2 - 9bk - 19k^2 \\equiv 1 + k + k^2  \\mod 2 = 1 \\mod 2  \\\\\n",
    "2a_2 =& -2 - 2b^2 - 18bk - 38k^2 - b^2k^2 - 9bk^3 - 20k^4 \\equiv 2k +3bk^3 + k^2 \\mod 4 \\\\\n",
    "4a_3 =& 16 + b^4k^2 + 18b^3k^3 + 119b^2k^4 + 342bk^5 + 360k^6 \\equiv k^2 + 7k^4 \\mod 8 =0 \\mod 8 \\text{ since } k\\text{ is odd or divisible by 4} \\\\\n",
    "4a_4 =& 16 + 8b^2 + 72bk + 152k^2 + b^4k^2 + 18b^3k^3 + 119b^2k^4 + 342bk^5 + 360k^6 \\equiv  k^2 + 7k^4 \\mod 8 =0 \\mod 8  \\\\\n",
    "2a_6 =& -8 - b^4k^2 - 18b^3k^3 - 119*b^2k^4 - 342bk^5 - 360k^6 \\equiv  3k^2 + k^4 \\mod 4 =0 \\mod 4. \\end{align}$$\n",
    "Consequently, $a_3,a_4,a_6$ are even and we have that\n",
    "$$\\begin{align}  t^2 +a_1t-a_2 \\equiv & \\left\\{ \\begin{array}{cl} t^2 + t + 1 &\\text{if } bk \\equiv 1 \\mod 4 \\\\t(t+1) & \\text{if }bk \\equiv 3 \\mod 4 \\text{ or } v_2(a-b)\\geq4\\end{array}\\right.\\\\\n",
    "\\equiv & \\left\\{ \\begin{array}{cl} t^2 + t + 1 &\\text{if } ab-b^2 \\equiv 4 \\mod 16 \\\\t(t+1) & \\text{if }ab - b^2 \\equiv 12 \\mod 16 \\text{ or } v_2(a-b)\\geq4.\\end{array}\\right. \\end{align}$$\n",
    "\n",
    "By Tate's Algorithm, we conclude that $E_T$ has Neron type $I_{v_p(\\Delta)}$ and\n",
    "\n",
    "1) $E_T$ has split multiplicative reduction at 2 if $ab - b^2 \\equiv 12 \\mod 16$ or $v_2(a-b)\\geq4$;\n",
    "\n",
    "2) $E_T$ has non-split multiplicative reduction at 2 if $ab-b^2 \\equiv 4 \\mod 16$.\n"
   ]
  },
  {
   "cell_type": "code",
   "execution_count": 51,
   "metadata": {
    "collapsed": false
   },
   "outputs": [
    {
     "name": "stdout",
     "output_type": "stream",
     "text": [
      "a1\n",
      "(1/16) * (-19*a^2 + 2*a*b + b^2 - 32)\n",
      "a2\n",
      "(1/128) * (-5*a^4 + 11*a^3*b - 7*a^2*b^2 + a*b^3 - 152*a^2 + 16*a*b + 8*b^2 - 128)\n",
      "a3\n",
      "(1/2048) * (45*a^6 - 99*a^5*b + 58*a^4*b^2 + 2*a^3*b^3 - 7*a^2*b^4 + a*b^5 + 8192)\n",
      "a4\n",
      "(1/2048) * (45*a^6 - 99*a^5*b + 58*a^4*b^2 + 2*a^3*b^3 - 7*a^2*b^4 + a*b^5 + 4864*a^2 - 512*a*b - 256*b^2 + 8192)\n",
      "a6\n",
      "(-1/1024) * (45*a^6 - 99*a^5*b + 58*a^4*b^2 + 2*a^3*b^3 - 7*a^2*b^4 + a*b^5 + 4096)\n",
      "Disc\n",
      "(1/4398046511104) * (-9*a + b)^2 * (-3*a + b)^2 * (3*a + b)^2 * (-5*a + b)^6 * (-a + b)^6 * a^6\n",
      "(2^42, (64) * (-9*a + b)^2 * (-3*a + b)^2 * (3*a + b)^2 * (-5*a + b)^6 * (-a + b)^6 * a^6)\n"
     ]
    }
   ],
   "source": [
    "K2=E26(a,b).change_weierstrass_model(16,0,-16,2*16^3) # This is F2 is the paper\n",
    "vals(K2)\n",
    "print((factor(4398046511104),factor(K.discriminant())))"
   ]
  },
  {
   "cell_type": "code",
   "execution_count": 57,
   "metadata": {
    "collapsed": false
   },
   "outputs": [
    {
     "name": "stdout",
     "output_type": "stream",
     "text": [
      "0\n",
      "0\n",
      "0\n",
      "0\n",
      "0\n"
     ]
    }
   ],
   "source": [
    "f1(b,k)=-2 - b^2 - 9*b*k - 19*k^2\n",
    "f2(b,k)=(1/2)*(-2 - 2*b^2 - 18*b*k - 38*k^2 - b^2*k^2 - 9*b*k^3 - 20*k^4)\n",
    "f3(b,k)=(1/4)*(16 + b^4*k^2 + 18*b^3*k^3 + 119*b^2*k^4 + 342*b*k^5 + 360*k^6)\n",
    "f4(b,k)=(1/4)*(16 + 8*b^2 + 72*b*k + 152*k^2 + b^4*k^2 + 18*b^3*k^3 + 119*b^2*k^4 + 342*b*k^5 + 360*k^6)\n",
    "f6(b,k)=(1/2)*(-8 - b^4*k^2 - 18*b^3*k^3 - 119*b^2*k^4 - 342*b*k^5 - 360*k^6)\n",
    "print(expand(K2.a1()-(f1(b,(a-b)/4))))\n",
    "print(expand(K2.a2()-(f2(b,(a-b)/4))))\n",
    "print(expand(K2.a3()-(f3(b,(a-b)/4))))\n",
    "print(expand(K2.a4()-(f4(b,(a-b)/4))))\n",
    "print(expand(K2.a6()-(f6(b,(a-b)/4))))"
   ]
  },
  {
   "cell_type": "markdown",
   "metadata": {
    "collapsed": false
   },
   "source": [
    "**Subcase e.** Suppose $v_2(a+b)=1$ and $v_2(a-b)=3$. Now consider the following Weierstrass model ($F_3$ in the paper):"
   ]
  },
  {
   "cell_type": "code",
   "execution_count": 53,
   "metadata": {
    "collapsed": false
   },
   "outputs": [
    {
     "name": "stdout",
     "output_type": "stream",
     "text": [
      "a1\n",
      "(-1/16) * (19*a^2 - 2*a*b - b^2)\n",
      "a2\n",
      "(1/128) * (-5*a^4 + 11*a^3*b - 7*a^2*b^2 + a*b^3 - 384)\n",
      "a3\n",
      "(1/2048) * (45*a^6 - 99*a^5*b + 58*a^4*b^2 + 2*a^3*b^3 - 7*a^2*b^4 + a*b^5 + 2432*a^2 - 256*a*b - 128*b^2 + 4096)\n",
      "a4\n",
      "(-1/64) * (-5*a^4 + 11*a^3*b - 7*a^2*b^2 + a*b^3 - 76*a^2 + 8*a*b + 4*b^2 - 192)\n",
      "a6\n",
      "(-1/2048) * (45*a^6 - 99*a^5*b + 58*a^4*b^2 + 2*a^3*b^3 - 7*a^2*b^4 + a*b^5 + 80*a^4 - 176*a^3*b + 112*a^2*b^2 - 16*a*b^3 + 2432*a^2 - 256*a*b - 128*b^2 + 4096)\n",
      "Disc\n",
      "(1/4398046511104) * (-9*a + b)^2 * (-3*a + b)^2 * (3*a + b)^2 * (-5*a + b)^6 * (-a + b)^6 * a^6\n",
      "True\n",
      "2^42 (64) * (-9*a + b)^2 * (-3*a + b)^2 * (3*a + b)^2 * (-5*a + b)^6 * (-a + b)^6 * a^6\n"
     ]
    }
   ],
   "source": [
    "K3=E26(a,b).change_weierstrass_model(16,-16^2,0,16^3) # This is F3 in the paper\n",
    "vals(K3)\n",
    "\n",
    "print(K3==E26(a,b).change_weierstrass_model(16,0,0,0).change_weierstrass_model(1,-1,0,1))\n",
    "print(factor(4398046511104),factor(K.discriminant()))"
   ]
  },
  {
   "cell_type": "markdown",
   "metadata": {
    "collapsed": false
   },
   "source": [
    "Now let $a-b=8k$ for some odd integer $k$. Then by the computation box below and the fact that $b,k$ are odd, we deduce that\n",
    "$$\\begin{align} a_1 = & -b^2 - 18bk - 76k^2  \\equiv 1  \\mod 2  \\\\\n",
    "a_2 =&  -3 - 2b^2k^2 - 36bk^3 - 160k^4 \\equiv 1 \\mod 2 \\\\\n",
    "a_3 =& 2 + b^2 + 18bk + 76k^2 + b^4k^2 + 36b^3k^3 + 476b^2k^4 +  2736bk^5 + 5760k^6 \\equiv 0 \\mod 2 \\\\\n",
    "a_4 =& 3 + b^2 + 18bk + 76k^2 + 4b^2k^2 + 72bk^3 + 320k^4 \\equiv  0 \\mod 2   \\\\\n",
    "a_6 =& -2 - b^2 - 18bk - 76k^2 - 2b^2k^2 - b^4k^2 - 36bk^3 - 36b^3k^3 - 160k^4 -   476b^2k^4 - 2736bk^5 - 5760k^6 \\equiv  0 \\mod 2. \\end{align}$$\n",
    "Consequently, $a_3,a_4,a_6$ are even and we have that $t^2+a_1t-a_2 \\equiv t^2 + t + 1 \\mod 2$. Consequently, $E_T$ has non-split multiplicative reduction at $2$ and Neron type $I_{v_p(\\Delta)}$."
   ]
  },
  {
   "cell_type": "code",
   "execution_count": 55,
   "metadata": {
    "collapsed": false
   },
   "outputs": [
    {
     "name": "stdout",
     "output_type": "stream",
     "text": [
      "0\n",
      "0\n",
      "0\n",
      "0\n",
      "0\n"
     ]
    }
   ],
   "source": [
    "f1(b,k)=-b^2 - 18*b*k - 76*k^2\n",
    "f2(b,k)=-3 - 2*b^2*k^2 - 36*b*k^3 - 160*k^4\n",
    "f3(b,k)=2 + b^2 + 18*b*k + 76*k^2 + b^4*k^2 + 36*b^3*k^3 + 476*b^2*k^4 +  2736*b*k^5 + 5760*k^6\n",
    "f4(b,k)=3 + b^2 + 18*b*k + 76*k^2 + 4*b^2*k^2 + 72*b*k^3 + 320*k^4\n",
    "f6(b,k)=-2 - b^2 - 18*b*k - 76*k^2 - 2*b^2*k^2 - b^4*k^2 - 36*b*k^3 -  36*b^3*k^3 - 160*k^4 -    476*b^2*k^4 - 2736*b*k^5 - 5760*k^6\n",
    "print(expand(K3.a1()-(f1(b,(a-b)/8))))\n",
    "print(expand(K3.a2()-(f2(b,(a-b)/8))))\n",
    "print(expand(K3.a3()-(f3(b,(a-b)/8))))\n",
    "print(expand(K3.a4()-(f4(b,(a-b)/8))))\n",
    "print(expand(K3.a6()-(f6(b,(a-b)/8))))"
   ]
  },
  {
   "cell_type": "markdown",
   "metadata": {
    "collapsed": false
   },
   "source": [
    "**Subcase f.** Suppose $v_2(a+b)\\geq 2$. In particular, $v_2(a-b)=1$. Now consider the following Weierstrass model ($F_4$ in the paper) "
   ]
  },
  {
   "cell_type": "code",
   "execution_count": 38,
   "metadata": {
    "collapsed": false
   },
   "outputs": [
    {
     "name": "stdout",
     "output_type": "stream",
     "text": [
      "a1\n",
      "(1/4) * (-19*a^2 + 2*a*b + b^2 - 8)\n",
      "a2\n",
      "(1/8) * (-5*a^4 + 11*a^3*b - 7*a^2*b^2 + a*b^3 - 38*a^2 + 4*a*b + 2*b^2 - 8)\n",
      "a3\n",
      "(1/32) * (45*a^6 - 99*a^5*b + 58*a^4*b^2 + 2*a^3*b^3 - 7*a^2*b^4 + a*b^5 + 128)\n",
      "a4\n",
      "(1/32) * (45*a^6 - 99*a^5*b + 58*a^4*b^2 + 2*a^3*b^3 - 7*a^2*b^4 + a*b^5 + 304*a^2 - 32*a*b - 16*b^2 + 128)\n",
      "a6\n",
      "(-1/16) * (45*a^6 - 99*a^5*b + 58*a^4*b^2 + 2*a^3*b^3 - 7*a^2*b^4 + a*b^5 + 64)\n",
      "Disc\n",
      "(1/262144) * (-9*a + b)^2 * (-3*a + b)^2 * (3*a + b)^2 * (-5*a + b)^6 * (-a + b)^6 * a^6\n",
      "True\n",
      "(2^18, (64) * (-9*a + b)^2 * (-3*a + b)^2 * (3*a + b)^2 * (-5*a + b)^6 * (-a + b)^6 * a^6)\n"
     ]
    }
   ],
   "source": [
    "K4=E26(a,b).change_weierstrass_model(4,0,-4,2*4^3) #This is F4 in the paper\n",
    "vals(K4)\n",
    "print(K4==E26(a,b).change_weierstrass_model(4,0,0,0).change_weierstrass_model(1,0,-1,2))\n",
    "print((factor(262144),factor(K.discriminant())))"
   ]
  },
  {
   "cell_type": "markdown",
   "metadata": {
    "collapsed": false
   },
   "source": [
    "Now let $a-b=2k$ for some odd integer $k$. Then by the computation box below and the fact that $b,k$ are odd, we deduce that\n",
    "$$\\begin{align} a_1 = & -2 - 4b^2 - 18bk - 19k^2  \\equiv 1  \\mod 2  \\\\\n",
    "a_2 =& -1 - 4b^2 - 18bk - 19k^2 - 2b^2k^2 - 9bk^3 - 10k^4  \\equiv 1 \\mod 2 \\\\\n",
    "a_3 =& 4 + 4b^4k^2 + 36b^3k^3 + 119b^2k^4 + 171bk^5 + 90k^6 \\equiv 0 \\mod 2 \\\\\n",
    "a_4 =& 4 + 8b^2 + 36bk + 38k^2 + 4b^4k^2 + 36b^3k^3 + 119b^2k^4 +  171bk^5 + 90k^6 \\equiv  0 \\mod 2   \\\\\n",
    "a_6 =& -2(2 + 4b^4k^2 + 36b^3k^3 + 119b^2k^4 + 171bk^5 + 90k^6) \\equiv  0 \\mod 2. \\end{align}$$\n",
    "Consequently, $a_3,a_4,a_6$ are even and we have that $t^2+a_1t-a_2 \\equiv t^2 + t + 1 \\mod 2$. Consequently, $E_T$ has non-split multiplicative reduction at $2$ and Neron type $I_{v_p(\\Delta)}$."
   ]
  },
  {
   "cell_type": "code",
   "execution_count": 56,
   "metadata": {
    "collapsed": false
   },
   "outputs": [
    {
     "name": "stdout",
     "output_type": "stream",
     "text": [
      "0\n",
      "0\n",
      "0\n",
      "0\n",
      "0\n"
     ]
    }
   ],
   "source": [
    "f1(b,k)=-2 - 4*b^2 - 18*b*k - 19*k^2\n",
    "f2(b,k)=-1 - 4*b^2 - 18*b*k - 19*k^2 - 2*b^2*k^2 - 9*b*k^3 - 10*k^4\n",
    "f3(b,k)=4 + 4*b^4*k^2 + 36*b^3*k^3 + 119*b^2*k^4 + 171*b*k^5 + 90*k^6\n",
    "f4(b,k)=4 + 8*b^2 + 36*b*k + 38*k^2 + 4*b^4*k^2 + 36*b^3*k^3 + 119*b^2*k^4 +  171*b*k^5 + 90*k^6\n",
    "f6(b,k)=-2*(2 + 4*b^4*k^2 + 36*b^3*k^3 + 119*b^2*k^4 + 171*b*k^5 + 90*k^6)\n",
    "print(expand(K4.a1()-(f1(b,(a-b)/2))))\n",
    "print(expand(K4.a2()-(f2(b,(a-b)/2))))\n",
    "print(expand(K4.a3()-(f3(b,(a-b)/2))))\n",
    "print(expand(K4.a4()-(f4(b,(a-b)/2))))\n",
    "print(expand(K4.a6()-(f6(b,(a-b)/2))))"
   ]
  },
  {
   "cell_type": "code",
   "execution_count": 0,
   "metadata": {
    "collapsed": false
   },
   "outputs": [
   ],
   "source": [
   ]
  },
  {
   "cell_type": "code",
   "execution_count": 0,
   "metadata": {
    "collapsed": false
   },
   "outputs": [
   ],
   "source": [
   ]
  },
  {
   "cell_type": "code",
   "execution_count": 0,
   "metadata": {
    "collapsed": false
   },
   "outputs": [
   ],
   "source": [
   ]
  },
  {
   "cell_type": "code",
   "execution_count": 0,
   "metadata": {
    "collapsed": false
   },
   "outputs": [
   ],
   "source": [
   ]
  },
  {
   "cell_type": "code",
   "execution_count": 0,
   "metadata": {
    "collapsed": false
   },
   "outputs": [
   ],
   "source": [
   ]
  }
 ],
 "metadata": {
  "kernelspec": {
   "display_name": "SageMath 9.1",
   "language": "sagemath",
   "metadata": {
    "cocalc": {
     "description": "Open-source mathematical software system",
     "priority": 10,
     "url": "https://www.sagemath.org/"
    }
   },
   "name": "sage-9.1",
   "resource_dir": "/ext/jupyter/kernels/sage-9.1"
  },
  "language_info": {
   "codemirror_mode": {
    "name": "ipython",
    "version": 3
   },
   "file_extension": ".py",
   "mimetype": "text/x-python",
   "name": "python",
   "nbconvert_exporter": "python",
   "pygments_lexer": "ipython3",
   "version": "3.7.3"
  }
 },
 "nbformat": 4,
 "nbformat_minor": 4
}